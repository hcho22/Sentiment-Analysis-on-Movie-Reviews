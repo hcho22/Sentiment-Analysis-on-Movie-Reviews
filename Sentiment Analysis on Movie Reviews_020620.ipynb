{
 "cells": [
  {
   "cell_type": "markdown",
   "metadata": {},
   "source": [
    "# Sentiment Analysis on Movie Reviews"
   ]
  },
  {
   "cell_type": "code",
   "execution_count": 1,
   "metadata": {},
   "outputs": [],
   "source": [
    "%reload_ext autoreload\n",
    "%autoreload 2\n",
    "%matplotlib inline"
   ]
  },
  {
   "cell_type": "code",
   "execution_count": 2,
   "metadata": {},
   "outputs": [],
   "source": [
    "from fastai.text import * "
   ]
  },
  {
   "cell_type": "markdown",
   "metadata": {},
   "source": [
    "## Preparing the data"
   ]
  },
  {
   "cell_type": "code",
   "execution_count": 3,
   "metadata": {},
   "outputs": [],
   "source": [
    "path = Path('data/Kaggle Movie Review/')"
   ]
  },
  {
   "cell_type": "code",
   "execution_count": 4,
   "metadata": {},
   "outputs": [
    {
     "data": {
      "text/plain": [
       "[PosixPath('data/Kaggle Movie Review/sampleSubmission.csv'),\n",
       " PosixPath('data/Kaggle Movie Review/data_save.pkl'),\n",
       " PosixPath('data/Kaggle Movie Review/testData.tsv'),\n",
       " PosixPath('data/Kaggle Movie Review/imdb_master.csv'),\n",
       " PosixPath('data/Kaggle Movie Review/labeledTrainData.tsv'),\n",
       " PosixPath('data/Kaggle Movie Review/labeledTrainData.csv'),\n",
       " PosixPath('data/Kaggle Movie Review/tmp.pth'),\n",
       " PosixPath('data/Kaggle Movie Review/unlabeledTrainData.tsv'),\n",
       " PosixPath('data/Kaggle Movie Review/data_lm.pkl')]"
      ]
     },
     "execution_count": 4,
     "metadata": {},
     "output_type": "execute_result"
    }
   ],
   "source": [
    "path.ls()"
   ]
  },
  {
   "cell_type": "markdown",
   "metadata": {},
   "source": [
    "Download training set"
   ]
  },
  {
   "cell_type": "code",
   "execution_count": 5,
   "metadata": {},
   "outputs": [
    {
     "data": {
      "text/html": [
       "<div>\n",
       "<style scoped>\n",
       "    .dataframe tbody tr th:only-of-type {\n",
       "        vertical-align: middle;\n",
       "    }\n",
       "\n",
       "    .dataframe tbody tr th {\n",
       "        vertical-align: top;\n",
       "    }\n",
       "\n",
       "    .dataframe thead th {\n",
       "        text-align: right;\n",
       "    }\n",
       "</style>\n",
       "<table border=\"1\" class=\"dataframe\">\n",
       "  <thead>\n",
       "    <tr style=\"text-align: right;\">\n",
       "      <th></th>\n",
       "      <th>id</th>\n",
       "      <th>sentiment</th>\n",
       "      <th>review</th>\n",
       "    </tr>\n",
       "  </thead>\n",
       "  <tbody>\n",
       "    <tr>\n",
       "      <th>0</th>\n",
       "      <td>5814_8</td>\n",
       "      <td>1</td>\n",
       "      <td>With all this stuff going down at the moment w...</td>\n",
       "    </tr>\n",
       "    <tr>\n",
       "      <th>1</th>\n",
       "      <td>2381_9</td>\n",
       "      <td>1</td>\n",
       "      <td>\\The Classic War of the Worlds\\\" by Timothy Hi...</td>\n",
       "    </tr>\n",
       "    <tr>\n",
       "      <th>2</th>\n",
       "      <td>7759_3</td>\n",
       "      <td>0</td>\n",
       "      <td>The film starts with a manager (Nicholas Bell)...</td>\n",
       "    </tr>\n",
       "    <tr>\n",
       "      <th>3</th>\n",
       "      <td>3630_4</td>\n",
       "      <td>0</td>\n",
       "      <td>It must be assumed that those who praised this...</td>\n",
       "    </tr>\n",
       "    <tr>\n",
       "      <th>4</th>\n",
       "      <td>9495_8</td>\n",
       "      <td>1</td>\n",
       "      <td>Superbly trashy and wondrously unpretentious 8...</td>\n",
       "    </tr>\n",
       "  </tbody>\n",
       "</table>\n",
       "</div>"
      ],
      "text/plain": [
       "       id  sentiment                                             review\n",
       "0  5814_8          1  With all this stuff going down at the moment w...\n",
       "1  2381_9          1  \\The Classic War of the Worlds\\\" by Timothy Hi...\n",
       "2  7759_3          0  The film starts with a manager (Nicholas Bell)...\n",
       "3  3630_4          0  It must be assumed that those who praised this...\n",
       "4  9495_8          1  Superbly trashy and wondrously unpretentious 8..."
      ]
     },
     "execution_count": 5,
     "metadata": {},
     "output_type": "execute_result"
    }
   ],
   "source": [
    "df_train = pd.read_csv(path/'labeledTrainData.tsv', sep='\\t')\n",
    "df_train.head()"
   ]
  },
  {
   "cell_type": "code",
   "execution_count": 6,
   "metadata": {},
   "outputs": [
    {
     "data": {
      "text/plain": [
       "(25000, 3)"
      ]
     },
     "execution_count": 6,
     "metadata": {},
     "output_type": "execute_result"
    }
   ],
   "source": [
    "df_train.shape"
   ]
  },
  {
   "cell_type": "code",
   "execution_count": 7,
   "metadata": {},
   "outputs": [
    {
     "data": {
      "text/plain": [
       "1    12500\n",
       "0    12500\n",
       "Name: sentiment, dtype: int64"
      ]
     },
     "execution_count": 7,
     "metadata": {},
     "output_type": "execute_result"
    }
   ],
   "source": [
    "df_train['sentiment'].value_counts()"
   ]
  },
  {
   "cell_type": "code",
   "execution_count": 8,
   "metadata": {},
   "outputs": [
    {
     "data": {
      "text/plain": [
       "'\\\\The Classic War of the Worlds\\\\\" by Timothy Hines is a very entertaining film that obviously goes to great effort and lengths to faithfully recreate H. G. Wells\\' classic book. Mr. Hines succeeds in doing so. I, and those who watched his film with me, appreciated the fact that it was not the standard, predictable Hollywood fare that comes out every year, e.g. the Spielberg version with Tom Cruise that had only the slightest resemblance to the book. Obviously, everyone looks for different things in a movie. Those who envision themselves as amateur \\\\\"critics\\\\\" look only to criticize everything they can. Others rate a movie on more important bases,like being entertained, which is why most people never agree with the \\\\\"critics\\\\\". We enjoyed the effort Mr. Hines put into being faithful to H.G. Wells\\' classic novel, and we found it to be very entertaining. This made it easy to overlook what the \\\\\"critics\\\\\" perceive to be its shortcomings.\"'"
      ]
     },
     "execution_count": 8,
     "metadata": {},
     "output_type": "execute_result"
    }
   ],
   "source": [
    "df_train['review'][1]"
   ]
  },
  {
   "cell_type": "markdown",
   "metadata": {},
   "source": [
    "Download test set"
   ]
  },
  {
   "cell_type": "code",
   "execution_count": 9,
   "metadata": {},
   "outputs": [
    {
     "data": {
      "text/html": [
       "<div>\n",
       "<style scoped>\n",
       "    .dataframe tbody tr th:only-of-type {\n",
       "        vertical-align: middle;\n",
       "    }\n",
       "\n",
       "    .dataframe tbody tr th {\n",
       "        vertical-align: top;\n",
       "    }\n",
       "\n",
       "    .dataframe thead th {\n",
       "        text-align: right;\n",
       "    }\n",
       "</style>\n",
       "<table border=\"1\" class=\"dataframe\">\n",
       "  <thead>\n",
       "    <tr style=\"text-align: right;\">\n",
       "      <th></th>\n",
       "      <th>id</th>\n",
       "      <th>review</th>\n",
       "    </tr>\n",
       "  </thead>\n",
       "  <tbody>\n",
       "    <tr>\n",
       "      <th>0</th>\n",
       "      <td>12311_10</td>\n",
       "      <td>Naturally in a film who's main themes are of m...</td>\n",
       "    </tr>\n",
       "    <tr>\n",
       "      <th>1</th>\n",
       "      <td>8348_2</td>\n",
       "      <td>This movie is a disaster within a disaster fil...</td>\n",
       "    </tr>\n",
       "    <tr>\n",
       "      <th>2</th>\n",
       "      <td>5828_4</td>\n",
       "      <td>All in all, this is a movie for kids. We saw i...</td>\n",
       "    </tr>\n",
       "    <tr>\n",
       "      <th>3</th>\n",
       "      <td>7186_2</td>\n",
       "      <td>Afraid of the Dark left me with the impression...</td>\n",
       "    </tr>\n",
       "    <tr>\n",
       "      <th>4</th>\n",
       "      <td>12128_7</td>\n",
       "      <td>A very accurate depiction of small time mob li...</td>\n",
       "    </tr>\n",
       "  </tbody>\n",
       "</table>\n",
       "</div>"
      ],
      "text/plain": [
       "         id                                             review\n",
       "0  12311_10  Naturally in a film who's main themes are of m...\n",
       "1    8348_2  This movie is a disaster within a disaster fil...\n",
       "2    5828_4  All in all, this is a movie for kids. We saw i...\n",
       "3    7186_2  Afraid of the Dark left me with the impression...\n",
       "4   12128_7  A very accurate depiction of small time mob li..."
      ]
     },
     "execution_count": 9,
     "metadata": {},
     "output_type": "execute_result"
    }
   ],
   "source": [
    "df_test = pd.read_csv(path/'testData.tsv', sep='\\t')\n",
    "df_test.head()"
   ]
  },
  {
   "cell_type": "code",
   "execution_count": 10,
   "metadata": {},
   "outputs": [
    {
     "data": {
      "text/plain": [
       "(25000, 2)"
      ]
     },
     "execution_count": 10,
     "metadata": {},
     "output_type": "execute_result"
    }
   ],
   "source": [
    "df_test.shape"
   ]
  },
  {
   "cell_type": "code",
   "execution_count": 11,
   "metadata": {},
   "outputs": [
    {
     "data": {
      "text/plain": [
       "\"This movie is a disaster within a disaster film. It is full of great action scenes, which are only meaningful if you throw away all sense of reality. Let's see, word to the wise, lava burns you; steam burns you. You can't stand next to lava. Diverting a minor lava flow is difficult, let alone a significant one. Scares me to think that some might actually believe what they saw in this movie.<br /><br />Even worse is the significant amount of talent that went into making this film. I mean the acting is actually very good. The effects are above average. Hard to believe somebody read the scripts for this and allowed all this talent to be wasted. I guess my suggestion would be that if this movie is about to start on TV ... look away! It is like a train wreck: it is so awful that once you know what is coming, you just have to watch. Look away and spend your time on more meaningful content.\""
      ]
     },
     "execution_count": 11,
     "metadata": {},
     "output_type": "execute_result"
    }
   ],
   "source": [
    "df_test['review'][1]"
   ]
  },
  {
   "cell_type": "markdown",
   "metadata": {},
   "source": [
    "Create DataBunch"
   ]
  },
  {
   "cell_type": "code",
   "execution_count": 12,
   "metadata": {},
   "outputs": [
    {
     "data": {
      "text/html": [],
      "text/plain": [
       "<IPython.core.display.HTML object>"
      ]
     },
     "metadata": {},
     "output_type": "display_data"
    },
    {
     "data": {
      "text/html": [],
      "text/plain": [
       "<IPython.core.display.HTML object>"
      ]
     },
     "metadata": {},
     "output_type": "display_data"
    },
    {
     "name": "stderr",
     "output_type": "stream",
     "text": [
      "/opt/anaconda3/lib/python3.7/site-packages/fastai/data_block.py:537: UserWarning: You are labelling your items with CategoryList.\n",
      "Your valid set contained the following unknown labels, the corresponding items have been discarded.\n",
      "4079_8, 605_10, 4983_1, 6353_7, 9834_1...\n",
      "  if getattr(ds, 'warn', False): warn(ds.warn)\n"
     ]
    }
   ],
   "source": [
    "data_lm = TextDataBunch.from_df(path, df_train, df_test)"
   ]
  },
  {
   "cell_type": "code",
   "execution_count": 13,
   "metadata": {},
   "outputs": [],
   "source": [
    "data_lm.save()"
   ]
  },
  {
   "cell_type": "code",
   "execution_count": 14,
   "metadata": {},
   "outputs": [],
   "source": [
    "data = load_data(path)"
   ]
  },
  {
   "cell_type": "markdown",
   "metadata": {},
   "source": [
    "### Tokenization"
   ]
  },
  {
   "cell_type": "code",
   "execution_count": 15,
   "metadata": {},
   "outputs": [
    {
     "data": {
      "text/html": [],
      "text/plain": [
       "<IPython.core.display.HTML object>"
      ]
     },
     "metadata": {},
     "output_type": "display_data"
    },
    {
     "data": {
      "text/html": [],
      "text/plain": [
       "<IPython.core.display.HTML object>"
      ]
     },
     "metadata": {},
     "output_type": "display_data"
    },
    {
     "name": "stderr",
     "output_type": "stream",
     "text": [
      "/opt/anaconda3/lib/python3.7/site-packages/fastai/data_block.py:537: UserWarning: You are labelling your items with CategoryList.\n",
      "Your valid set contained the following unknown labels, the corresponding items have been discarded.\n",
      "4079_8, 605_10, 4983_1, 6353_7, 9834_1...\n",
      "  if getattr(ds, 'warn', False): warn(ds.warn)\n"
     ]
    },
    {
     "data": {
      "text/html": [
       "<table border=\"1\" class=\"dataframe\">\n",
       "  <thead>\n",
       "    <tr style=\"text-align: right;\">\n",
       "      <th>text</th>\n",
       "      <th>target</th>\n",
       "    </tr>\n",
       "  </thead>\n",
       "  <tbody>\n",
       "    <tr>\n",
       "      <td>xxbos 0</td>\n",
       "      <td>4405_2</td>\n",
       "    </tr>\n",
       "    <tr>\n",
       "      <td>xxbos 1</td>\n",
       "      <td>8597_9</td>\n",
       "    </tr>\n",
       "    <tr>\n",
       "      <td>xxbos 0</td>\n",
       "      <td>10898_3</td>\n",
       "    </tr>\n",
       "    <tr>\n",
       "      <td>xxbos 0</td>\n",
       "      <td>6242_1</td>\n",
       "    </tr>\n",
       "    <tr>\n",
       "      <td>xxbos 1</td>\n",
       "      <td>3246_9</td>\n",
       "    </tr>\n",
       "  </tbody>\n",
       "</table>"
      ],
      "text/plain": [
       "<IPython.core.display.HTML object>"
      ]
     },
     "metadata": {},
     "output_type": "display_data"
    }
   ],
   "source": [
    "data = TextClasDataBunch.from_df(path, df_train, df_test)\n",
    "data.show_batch()"
   ]
  },
  {
   "cell_type": "markdown",
   "metadata": {},
   "source": [
    "### Numericalization"
   ]
  },
  {
   "cell_type": "code",
   "execution_count": 16,
   "metadata": {},
   "outputs": [
    {
     "data": {
      "text/plain": [
       "['xxunk',\n",
       " 'xxpad',\n",
       " 'xxbos',\n",
       " 'xxeos',\n",
       " 'xxfld',\n",
       " 'xxmaj',\n",
       " 'xxup',\n",
       " 'xxrep',\n",
       " 'xxwrep',\n",
       " '1']"
      ]
     },
     "execution_count": 16,
     "metadata": {},
     "output_type": "execute_result"
    }
   ],
   "source": [
    "# see first 10 unique list of all of the possible tokens\n",
    "data.vocab.itos[:10]"
   ]
  },
  {
   "cell_type": "code",
   "execution_count": 17,
   "metadata": {},
   "outputs": [
    {
     "data": {
      "text/plain": [
       "Text xxbos 1"
      ]
     },
     "execution_count": 17,
     "metadata": {},
     "output_type": "execute_result"
    }
   ],
   "source": [
    "data.train_ds[0][0]"
   ]
  },
  {
   "cell_type": "code",
   "execution_count": 18,
   "metadata": {},
   "outputs": [
    {
     "data": {
      "text/plain": [
       "array([2, 9])"
      ]
     },
     "execution_count": 18,
     "metadata": {},
     "output_type": "execute_result"
    }
   ],
   "source": [
    "# replace movie review with a list of numbers. Where is the token in the vocab?\n",
    "data.train_ds[0][0].data[:10]"
   ]
  },
  {
   "cell_type": "markdown",
   "metadata": {},
   "source": [
    "### With the data block API"
   ]
  },
  {
   "cell_type": "code",
   "execution_count": 19,
   "metadata": {},
   "outputs": [
    {
     "data": {
      "text/html": [],
      "text/plain": [
       "<IPython.core.display.HTML object>"
      ]
     },
     "metadata": {},
     "output_type": "display_data"
    },
    {
     "data": {
      "text/html": [],
      "text/plain": [
       "<IPython.core.display.HTML object>"
      ]
     },
     "metadata": {},
     "output_type": "display_data"
    },
    {
     "data": {
      "text/html": [
       "<table border=\"1\" class=\"dataframe\">\n",
       "  <thead>\n",
       "    <tr style=\"text-align: right;\">\n",
       "      <th>idx</th>\n",
       "      <th>text</th>\n",
       "    </tr>\n",
       "  </thead>\n",
       "  <tbody>\n",
       "    <tr>\n",
       "      <td>0</td>\n",
       "      <td>whether he is guilty or innocent . xxmaj moonwalker is part biography , part feature film which i remember going to see at the cinema when it was originally released . xxmaj some of it has subtle messages about xxup mj 's feeling towards the press and also the obvious message of drugs are bad xxunk . \\n \\n  xxmaj visually impressive but of course this is all about</td>\n",
       "    </tr>\n",
       "    <tr>\n",
       "      <td>1</td>\n",
       "      <td>up capturing xxup c.a. within hours of his release from prison . xxmaj this leaves only the xxmaj mystery xxmaj men to stop xxmaj frankenstein 's evil plan , but with such henchmen as the xxmaj disco xxmaj boys protecting xxmaj frankenstein , the trio are going to need a little help . \\n \\n  xxmaj recruiting commences , and after a painful recruitment party , the team settles</td>\n",
       "    </tr>\n",
       "    <tr>\n",
       "      <td>2</td>\n",
       "      <td>we would n't want to take time away from our next match which saw real life husband and wife xxmaj marc xxmaj xxunk and xxmaj sable defeat xxmaj xxunk and xxmaj luna xxmaj xxunk in the first mixed tag match at xxmaj wrestlemania in 8 years . xxmaj and , in all honesty , it was n't worth the wait . xxmaj while not terrible , the match was in</td>\n",
       "    </tr>\n",
       "    <tr>\n",
       "      <td>3</td>\n",
       "      <td>improvement on it . i have no idea why xxmaj scorsese wasted his time on a remake . xxmaj then again , considering how bad his recent movies have been ( i 'm referring to his dull xxmaj buddhist movie and all the ones with his new favourite actress , the blond girl xxmaj di xxmaj caprio ) this is n't even that bad by comparison . xxmaj and considering</td>\n",
       "    </tr>\n",
       "    <tr>\n",
       "      <td>4</td>\n",
       "      <td>but toward the end one understands there is not much to understand . \\ xxmaj scary \" elements seems sometimes to have been added to the script without reason ... \\n \\n  xxmaj so ... ( yawn ) xxmaj see this movie it if you have nothing more interesting to do , like cutting the carrots or looking at the clouds . \" xxbos \\ a xxmaj gentleman 's</td>\n",
       "    </tr>\n",
       "  </tbody>\n",
       "</table>"
      ],
      "text/plain": [
       "<IPython.core.display.HTML object>"
      ]
     },
     "metadata": {},
     "output_type": "display_data"
    }
   ],
   "source": [
    "data = (TextList.from_df(df_train, cols='review')\n",
    "        .split_by_rand_pct(0.1)\n",
    "        .label_for_lm()\n",
    "        .databunch(bs=32))\n",
    "data.show_batch()"
   ]
  },
  {
   "cell_type": "markdown",
   "metadata": {},
   "source": [
    "### Language Model"
   ]
  },
  {
   "cell_type": "code",
   "execution_count": 20,
   "metadata": {},
   "outputs": [],
   "source": [
    "learn = language_model_learner(data, AWD_LSTM, drop_mult=0.3)"
   ]
  },
  {
   "cell_type": "code",
   "execution_count": 21,
   "metadata": {},
   "outputs": [
    {
     "data": {
      "text/html": [
       "\n",
       "    <div>\n",
       "        <style>\n",
       "            /* Turns off some styling */\n",
       "            progress {\n",
       "                /* gets rid of default border in Firefox and Opera. */\n",
       "                border: none;\n",
       "                /* Needs to be in here for Safari polyfill so background images work as expected. */\n",
       "                background-size: auto;\n",
       "            }\n",
       "            .progress-bar-interrupted, .progress-bar-interrupted::-webkit-progress-bar {\n",
       "                background: #F44336;\n",
       "            }\n",
       "        </style>\n",
       "      <progress value='0' class='' max='1', style='width:300px; height:20px; vertical-align: middle;'></progress>\n",
       "      0.00% [0/1 00:00<00:00]\n",
       "    </div>\n",
       "    \n",
       "<table border=\"1\" class=\"dataframe\">\n",
       "  <thead>\n",
       "    <tr style=\"text-align: left;\">\n",
       "      <th>epoch</th>\n",
       "      <th>train_loss</th>\n",
       "      <th>valid_loss</th>\n",
       "      <th>accuracy</th>\n",
       "      <th>time</th>\n",
       "    </tr>\n",
       "  </thead>\n",
       "  <tbody>\n",
       "  </tbody>\n",
       "</table><p>\n",
       "\n",
       "    <div>\n",
       "        <style>\n",
       "            /* Turns off some styling */\n",
       "            progress {\n",
       "                /* gets rid of default border in Firefox and Opera. */\n",
       "                border: none;\n",
       "                /* Needs to be in here for Safari polyfill so background images work as expected. */\n",
       "                background-size: auto;\n",
       "            }\n",
       "            .progress-bar-interrupted, .progress-bar-interrupted::-webkit-progress-bar {\n",
       "                background: #F44336;\n",
       "            }\n",
       "        </style>\n",
       "      <progress value='99' class='' max='3038', style='width:300px; height:20px; vertical-align: middle;'></progress>\n",
       "      3.26% [99/3038 00:12<06:03 12.5874]\n",
       "    </div>\n",
       "    "
      ],
      "text/plain": [
       "<IPython.core.display.HTML object>"
      ]
     },
     "metadata": {},
     "output_type": "display_data"
    },
    {
     "name": "stdout",
     "output_type": "stream",
     "text": [
      "LR Finder is complete, type {learner_name}.recorder.plot() to see the graph.\n"
     ]
    }
   ],
   "source": [
    "learn.lr_find()"
   ]
  },
  {
   "cell_type": "code",
   "execution_count": 22,
   "metadata": {},
   "outputs": [
    {
     "data": {
      "image/png": "[encoded data removed]",
      "text/plain": [
       "<Figure size 432x288 with 1 Axes>"
      ]
     },
     "metadata": {
      "needs_background": "light"
     },
     "output_type": "display_data"
    }
   ],
   "source": [
    "learn.recorder.plot()"
   ]
  },
  {
   "cell_type": "code",
   "execution_count": 24,
   "metadata": {},
   "outputs": [
    {
     "data": {
      "text/html": [
       "<table border=\"1\" class=\"dataframe\">\n",
       "  <thead>\n",
       "    <tr style=\"text-align: left;\">\n",
       "      <th>epoch</th>\n",
       "      <th>train_loss</th>\n",
       "      <th>valid_loss</th>\n",
       "      <th>accuracy</th>\n",
       "      <th>time</th>\n",
       "    </tr>\n",
       "  </thead>\n",
       "  <tbody>\n",
       "    <tr>\n",
       "      <td>0</td>\n",
       "      <td>4.172768</td>\n",
       "      <td>4.023616</td>\n",
       "      <td>0.292196</td>\n",
       "      <td>05:44</td>\n",
       "    </tr>\n",
       "  </tbody>\n",
       "</table>"
      ],
      "text/plain": [
       "<IPython.core.display.HTML object>"
      ]
     },
     "metadata": {},
     "output_type": "display_data"
    }
   ],
   "source": [
    "learn.fit_one_cycle(1, 1e-2, moms = (0.8, 0.7))"
   ]
  },
  {
   "cell_type": "code",
   "execution_count": 25,
   "metadata": {},
   "outputs": [],
   "source": [
    "learn.save('fit_head')"
   ]
  },
  {
   "cell_type": "code",
   "execution_count": 26,
   "metadata": {},
   "outputs": [
    {
     "data": {
      "text/plain": [
       "LanguageLearner(data=TextLMDataBunch;\n",
       "\n",
       "Train: LabelList (22500 items)\n",
       "x: LMTextList\n",
       "xxbos xxmaj with all this stuff going down at the moment with xxup mj i 've started listening to his music , watching the odd documentary here and there , watched xxmaj the xxmaj wiz and watched xxmaj moonwalker again . xxmaj maybe i just want to get a certain insight into this guy who i thought was really cool in the eighties just to maybe make up my mind whether he is guilty or innocent . xxmaj moonwalker is part biography , part feature film which i remember going to see at the cinema when it was originally released . xxmaj some of it has subtle messages about xxup mj 's feeling towards the press and also the obvious message of drugs are bad xxunk . \n",
       " \n",
       "  xxmaj visually impressive but of course this is all about xxmaj michael xxmaj jackson so unless you remotely like xxup mj in anyway then you are going to hate this and find it boring . xxmaj some may call xxup mj an egotist for consenting to the making of this movie xxup but xxup mj and most of his fans would say that he made it for the fans which if true is really nice of him . \n",
       " \n",
       "  xxmaj the actual feature film bit when it finally starts is only on for 20 minutes or so excluding the xxmaj smooth xxmaj criminal sequence and xxmaj joe xxmaj pesci is convincing as a psychopathic all powerful drug lord . xxmaj why he wants xxup mj dead so bad is beyond me . xxmaj because xxup mj overheard his plans ? xxmaj nah , xxmaj joe xxmaj pesci 's character ranted that he wanted people to know it is he who is supplying drugs etc so i dunno , maybe he just hates xxup mj 's music . \n",
       " \n",
       "  xxmaj lots of cool things in this like xxup mj turning into a car and a robot and the whole xxmaj speed xxmaj demon sequence . xxmaj also , the director must have had the patience of a saint when it came to filming the kiddy xxmaj bad sequence as usually directors hate working with one kid let alone a whole bunch of them performing a complex dance scene . \n",
       " \n",
       "  xxmaj bottom line , this movie is for people who like xxup mj on one level or another ( which i think is most people ) . xxmaj if not , then stay away . xxmaj it does try and give off a wholesome message and ironically xxup mj 's xxunk buddy in this movie is a girl ! xxmaj michael xxmaj jackson is truly one of the most talented people ever to grace this planet but is he guilty ? xxmaj well , with all the attention i 've gave this subject xxrep 4 . hmmm well i do n't know because people can be different behind closed doors , i know this for a fact . xxmaj he is either an extremely nice but stupid guy or one of the most sickest liars . i hope he is not the latter .,xxbos xxmaj the film starts with a manager ( xxmaj nicholas xxmaj bell ) giving welcome investors ( xxmaj robert xxmaj carradine ) to xxmaj primal xxmaj park . a secret project xxunk a primal animal using xxunk xxup dna , like xxunk xxmaj xxunk , and some scientists resurrect one of nature 's most fearsome predators , the xxmaj sabretooth tiger or xxmaj smilodon . xxmaj scientific ambition turns deadly , however , and when the high voltage fence is opened the creature escape and begins savagely stalking its prey - the human visitors , tourists and scientific . xxmaj meanwhile some youngsters enter in the restricted area of the security center and are attacked by a pack of large pre - historical animals which are xxunk and bigger . xxmaj in addition , a security agent ( xxmaj stacy xxmaj xxunk ) and her mate ( xxmaj brian xxmaj xxunk ) fight hardly against the carnivorous xxmaj xxunk . xxmaj the xxmaj sabretooths , themselves , of course , are the real star stars and they are astounding terrifyingly though not convincing . xxmaj the giant animals savagely are stalking its prey and the group run afoul and fight against one nature 's most fearsome predators . xxmaj furthermore a third xxmaj sabretooth more dangerous and slow stalks its victims . \n",
       " \n",
       "  xxmaj the movie delivers the goods with lots of blood and gore as beheading , hair - raising chills , full of scares when the xxmaj sabretooths appear with mediocre special effects . xxmaj the story provides exciting and stirring entertainment but it results to be quite boring .the giant animals are majority made by computer generator and seem totally lousy xxunk performances though the players reacting appropriately to becoming food . xxmaj actors give vigorously physical performances dodging the beasts , running , bound and leaps or dangling over walls . xxmaj and it packs a ridiculous final deadly scene . xxmaj no for small kids by realistic , gory and violent attack scenes . xxmaj other films about xxmaj sabretooths or xxmaj smilodon are the following : xxunk xxmaj james r xxmaj hickox with xxmaj vanessa xxmaj angel , xxmaj david xxmaj keith and xxmaj john xxmaj rhys xxmaj davies and the much better xxunk xxup xxunk by xxmaj roland xxmaj emmerich with with xxmaj steven xxmaj strait , xxmaj cliff xxmaj curtis and xxmaj camilla xxmaj belle . xxmaj this motion picture filled with bloody moments is badly directed by xxmaj george xxmaj miller and with no originality because takes too many elements from previous films . xxmaj miller is an xxmaj australian director usually working for television ( xxmaj tidal wave , xxmaj journey to the center of the earth , and many others ) and occasionally for cinema ( xxmaj the man from xxmaj snowy river , xxmaj zeus and xxmaj roxanne , xxmaj robinson xxmaj crusoe ) . xxmaj rating : xxmaj below average , bottom of barrel .,xxbos xxmaj it must be assumed that those who praised this film ( \\ the greatest filmed opera ever , \" did n't i read somewhere ? ) either do n't care for opera , do n't care for xxmaj wagner , or do n't care about anything except their desire to appear xxmaj cultured . xxmaj either as a representation of xxmaj wagner 's swan - song , or as a movie , this strikes me as an unmitigated disaster , with a leaden reading of the score matched to a xxunk , lugubrious realisation of the text . \n",
       " \n",
       "  xxmaj it 's questionable that people with ideas as to what an opera ( or , for that matter , a play , especially one by xxmaj shakespeare ) is \" about \" should be allowed anywhere near a theatre or film studio ; xxmaj syberberg , very xxunk , but without the smallest justification from xxmaj wagner 's text , decided that xxmaj parsifal is \" about \" bisexual integration , so that the title character , in the latter stages , xxunk into a kind of beatnik babe , though one who continues to sing high tenor -- few if any of the actors in the film are the singers , and we get a double dose of xxmaj armin xxmaj jordan , the conductor , who is seen as the face ( but not heard as the voice ) of xxmaj amfortas , and also appears monstrously in double exposure as a kind of xxmaj xxunk or xxmaj conductor xxmaj who xxmaj ate xxmaj xxunk during the playing of the xxmaj good xxmaj friday music -- in which , by the way , the xxunk xxunk of nature is represented by a xxunk of shopworn and flaccid xxunk stuck in ill - laid turf , an expedient which baffles me . xxmaj in the theatre we sometimes have to piece out such imperfections with our thoughts , but i ca n't think why xxmaj syberberg could n't splice in , for xxmaj parsifal and xxmaj gurnemanz , mountain pasture as lush as was provided for xxmaj julie xxmaj andrews in xxmaj sound of xxmaj music ... \n",
       " \n",
       "  xxmaj the sound is hard to endure , the high voices and the trumpets in particular possessing an aural glare that adds another sort of fatigue to our impatience with the uninspired conducting and xxunk unfolding of the ritual . xxmaj someone in another review mentioned the 1951 xxmaj bayreuth recording , and xxmaj xxunk , though his xxunk are often very slow , had what xxmaj jordan altogether lacks , a sense of pulse , a feeling for the ebb and flow of the music -- and , after half a century , the orchestral sound in that set , in modern xxunk , is still superior to this film . \",xxbos xxmaj superbly trashy and xxunk unpretentious 80 's exploitation , hooray ! xxmaj the pre - credits opening sequences somewhat give the false impression that we 're dealing with a serious and harrowing drama , but you need not fear because barely ten minutes later we 're up until our necks in nonsensical chainsaw battles , rough fist - fights , lurid dialogs and gratuitous nudity ! xxmaj bo and xxmaj ingrid are two orphaned siblings with an unusually close and even slightly perverted relationship . xxmaj can you imagine playfully ripping off the towel that covers your sister 's naked body and then stare at her xxunk genitals for several whole minutes ? xxmaj well , xxmaj bo does that to his sister and , judging by her dubbed laughter , she does n't mind at all . xxmaj sick , dude ! xxmaj anyway , as kids they fled from xxmaj russia with their parents , but nasty soldiers brutally slaughtered mommy and daddy . a friendly smuggler took custody over them , however , and even raised and trained xxmaj bo and xxmaj ingrid into expert smugglers . xxmaj when the actual plot lifts off , 20 years later , they 're facing their ultimate quest as the mythical and incredibly valuable xxmaj white xxmaj fire diamond is coincidentally found in a mine . xxmaj very few things in life ever made as little sense as the plot and narrative structure of \\ xxmaj white xxmaj fire \" , but it sure is a lot of fun to watch . xxmaj most of the time you have no clue who 's beating up who or for what cause ( and i bet the actors understood even less ) but whatever ! xxmaj the violence is magnificently grotesque and every single plot twist is pleasingly retarded . xxmaj the script goes totally bonkers beyond repair when suddenly  and i wo n't reveal for what reason  xxmaj bo needs a replacement for xxmaj ingrid and xxmaj fred xxmaj williamson enters the scene with a big cigar in his mouth and his sleazy black fingers all over the local prostitutes . xxmaj bo 's principal opponent is an xxmaj italian chick with big breasts but a hideous accent , the preposterous but catchy theme song plays at least a dozen times throughout the film , there 's the obligatory \" we're - falling - in - love \" montage and loads of other attractions ! xxmaj my xxmaj god , what a brilliant experience . xxmaj the original xxmaj french title translates itself as \" xxmaj life to xxmaj survive \" , which is uniquely appropriate because it makes just as much sense as the rest of the movie : xxmaj none ! \",xxbos i do nt know why people think this is such a bad movie . xxmaj its got a pretty good plot , some good action , and the change of location for xxmaj harry does not hurt either . xxmaj sure some of its offensive and gratuitous but this is not the only movie like that . xxmaj eastwood is in good form as xxmaj dirty xxmaj harry , and i liked xxmaj pat xxmaj hingle in this movie as the small town cop . xxmaj if you liked xxup dirty xxup harry , then you should see this one , its a lot better than xxup the xxup dead xxup pool . 4 / 5\n",
       "y: LMLabelList\n",
       ",,,,\n",
       "Path: .;\n",
       "\n",
       "Valid: LabelList (2500 items)\n",
       "x: LMTextList\n",
       "xxbos a few years ago , a friend got from one of his other friends a video with the xxmaj michael xxmaj mann film ' xxmaj heat ' on it . xxmaj after we finished that movie , and were about to stand up , we saw that there is another film just after , tough on the cassette 's envelope the owner did n't write it up . xxmaj yet we were all glued back to our seats by its distinct opening , which lacked credits . \n",
       " \n",
       "  xxmaj some two hours later , i just sat there wondering : how could i not have heard of this masterpiece before ? ... \n",
       " \n",
       "  xxmaj this film was xxmaj europa . xxmaj lars von xxmaj trier woke film noir from the dead , deconstructed reality with intentionally obvious sets , yet often there was haunting similarity with post - war xxmaj german photographs i saw . xxmaj and then the tricky cuts ! \n",
       " \n",
       "  xxmaj the story itself is a hard - to - take moral odyssey that has no happy end . a young xxmaj american pacifist of xxmaj german descent comes to post - war xxmaj germany , intent on doing some good to pay for the bombs his countrymen dropped . xxmaj but he mostly meets distrust and self - destructive defiance . xxmaj he hires with xxmaj zentropa , a dining - and - sleeping - car company ( modeled on xxmaj xxunk ) , whose owner is one of the xxmaj nazi collaborators the xxmaj xxunk whitewash . xxmaj our hero falls in love with his daughter - who later turns out to be a member of the xxmaj werewolf , xxmaj nazi post - war terrorists . xxmaj when he does n't understand the world ( or just xxmaj europeans ) anymore , in his rage he blows up a railroad bridge under a train which he just saved . \n",
       " \n",
       "  xxmaj as a final note , for historical correctness : in the real world , the xxmaj werewolf were nowhere as important as the film implies , they were mostly a final xxmaj nazi propaganda coup . xxmaj after an xxup ss unit assassinated the major of xxmaj allied - occupied xxmaj xxunk , two months before the xxunk , the xxmaj nazis announced the creation of whole legions of xxunk and terrorists who will be ready to fight behind the lines , the xxmaj werewolf . xxmaj but only a few hundred of mostly xxmaj hitler xxmaj youth received some training , and while two or three times some were deployed to murder suspected communists or forced - labourer foreigners in xxmaj bavarian villages to imprint lasting fear on inhabitants , with xxmaj hitler 's death and the war 's end it all fell apart . \n",
       " \n",
       "  xxmaj however , the xxmaj werewolf propaganda had a profound effect on the xxunk . xxmaj they feared the xxmaj werewolf everywhere , suspected it behind any serious accident - but without exception another cause was found later ( ignored by some recent pseudo - historians ) . xxmaj for example , when a gas main exploded in the police xxup hq of bombed - out xxmaj xxunk , or when the xxmaj soviet military commander died in a motorbike accident in xxmaj berlin . xxmaj the effect was strongest on the xxmaj soviets , who arrested tens of thousands ( in large part children ! ) ' xxunk ' on suspicion of being xxmaj werewolf , and closed them off in prison camps where a lot of them died .,xxbos xxmaj am not familiar with the trilogy but came upon this film last night on xxmaj showtime . xxmaj the film looked very well done with the set design and the cinematography , but the screenplay was stilted and wooden . xxmaj the acting was fairly bad- thought the two female leads were serviceable . xxmaj you never really believed anything the supporting actors said though . xxmaj there were the xxunk bible - thumping xxmaj reverend without a hint of nuance , authoritative xxmaj captain , hot - headed soldier , etc . i am sorry to say that based on these deficiencies i clocked it straight away as xxmaj canadian without knowing it to be such - the xxmaj telefilm xxmaj canada end credits gave it away . i know i 'm a horrible person . \n",
       " \n",
       "  xxmaj maybe i missed something in the beginning but the hostility towards the girls is never explained . xxmaj here they are besieged in a fort by werewolves and the men are wasting time and energy xxunk two young women for no reason . xxup focus people . xxmaj there 's a bit more of a pressing situation beyond your walls than whether or not these girls are lesbians - that 's just my inference for the hostility directed towards them . xxmaj if they can aim and fire a gun you might as well make nice with them . xxmaj the question of their \\ immortal soul \" can be resolved later . \n",
       " \n",
       "  xxmaj also , i guess this relates to the rest of the trilogy , these girls are supposed to be the protagonists ? xxmaj one of them murdered the xxmaj indian guy at the end that saved one of their lives . i guess one is just a victim of her condition who ca n't be necessarily blamed for her actions , but the other is just a murderer who does n't deserve her happy ending . \",xxbos o my gosh ... xxmaj just give me a minute to breath . xxmaj this movie takes you on an awesome ride and does n't let you go until the very last blow in your face ending . xxmaj this is the the movie for fans of xxmaj stormriders and such . xxmaj legend of xxmaj zu was beautifully created , although i did n't like a few things , they used alot of stand ins . i wanted to see the real person fight but , oh well ... a few small let downs , and i did n't really like it a lot until i watched it again , when you understand it more it totally kicks a * * ! i encourage anyone who ever wanted to see a true xxmaj asian movie , to see this movie . i give this movie one of my highest ratings . xxmaj go and see it when it comes out in xxmaj america ! ! !,xxbos xxup uk newspaper reviews seem to have concentrated on the fact that the reviewers tend to know xxmaj toby xxmaj young , the journalist on whose real - life experiences this movie is based . xxmaj the key word here is \\ based \" . xxmaj how xxmaj to xxmaj lose xxmaj friends is a fictitious xxunk . \n",
       " \n",
       "  xxmaj sidney xxmaj young joins a prestigious gossip magazine in xxmaj new xxmaj york , where he proceeds to make gaffe after gaffe before finally xxmaj getting xxmaj it xxmaj right and xxmaj making xxmaj it . xxmaj this involves him selling out , and the movie has some serious points to make about journalistic integrity . xxmaj however , they are not overdone : the main substance remains a comedy which centres around xxmaj sidney 's misadventures . xxmaj the script has its cake and eats it in that xxmaj sidney is a stupid , well - meaning buffoon at the same time as being a smart , moderately obnoxious skilled writer . xxmaj this contradiction is never that much of an issue , because xxmaj simon xxmaj pegg ( as xxmaj sidney ) projects likability too well . \n",
       " \n",
       "  xxmaj jeff xxmaj bridges underplays xxmaj sidney 's editor a little too effectively , and xxmaj kirsten xxmaj dunst is rather anonymous as the conflicted eventual object of xxmaj sidney 's affections xxmaj and , with regard to xxmaj megan xxmaj fox ( who plays an airhead bimbo starlet ) , i can say only this : just say the word , xxmaj miss xxmaj fox , and i will leave my wife , sell all my belongings , and buy myself a plane ticket in order to take my place at your side as your xxunk . xxmaj of course , given that i 'm a fat xxunk - old xxmaj english accountant , you might not find my offer too enticing , but it 's there on the table anyway . xxmaj given how short her career has been so far , one might think it is a little too soon for xxmaj megan xxmaj fox to take on a role which mercilessly lampoons the sort of actress she might be thought to become : however , she does it sweetly , with some skill , and extremely xxunk . xxmaj this girl will go far . \n",
       " \n",
       "  xxmaj there is stalwart support from a variety of seasoned performers - xxmaj miriam xxmaj xxunk and xxmaj bill xxmaj xxunk from the xxup uk , xxmaj gillian xxmaj anderson and xxmaj danny xxmaj huston from the xxup us . \n",
       " \n",
       "  xxmaj there are several laugh - out - loud moments , and i smiled most of the way through . xxmaj as ever , the f - word makes appearances when it really does n't need to , although at least a couple of these are very funny . \",xxbos xxmaj this really does n't do the blues justice . xxmaj it starts out badly with images from the voyager probe and xxmaj blind xxmaj willie xxunk ( or was it xxmaj blind xxmaj lemon xxmaj jefferson ? xxmaj someone blind anyway ) apparently narrating from outer space ( ? ) and telling us the life stories of various blues musicians . xxmaj corny as it is , this might be the visually most interesting part of this documentary . xxmaj afterwards the only thing to see is actors xxunk mouthing the classic tunes , filmed in fake 20s black and white intercut with the likes of xxmaj beck and xxmaj xxunk xxmaj copeland raping the same songs afterwards . xxmaj this is a good device to show us why the old xxmaj blues greats were really so great , but it does n't make for compelling viewing . xxmaj there is hardly anything in here that could justify making it a film and not a radio play . xxmaj nobody should be forced to see these badly done xxunk . xxmaj it 's a shame for xxmaj wenders , xxmaj scorsese and especially for the xxmaj blues . xxmaj avoid at all costs .\n",
       "y: LMLabelList\n",
       ",,,,\n",
       "Path: .;\n",
       "\n",
       "Test: None, model=SequentialRNN(\n",
       "  (0): AWD_LSTM(\n",
       "    (encoder): Embedding(36832, 400, padding_idx=1)\n",
       "    (encoder_dp): EmbeddingDropout(\n",
       "      (emb): Embedding(36832, 400, padding_idx=1)\n",
       "    )\n",
       "    (rnns): ModuleList(\n",
       "      (0): WeightDropout(\n",
       "        (module): LSTM(400, 1152, batch_first=True)\n",
       "      )\n",
       "      (1): WeightDropout(\n",
       "        (module): LSTM(1152, 1152, batch_first=True)\n",
       "      )\n",
       "      (2): WeightDropout(\n",
       "        (module): LSTM(1152, 400, batch_first=True)\n",
       "      )\n",
       "    )\n",
       "    (input_dp): RNNDropout()\n",
       "    (hidden_dps): ModuleList(\n",
       "      (0): RNNDropout()\n",
       "      (1): RNNDropout()\n",
       "      (2): RNNDropout()\n",
       "    )\n",
       "  )\n",
       "  (1): LinearDecoder(\n",
       "    (decoder): Linear(in_features=400, out_features=36832, bias=True)\n",
       "    (output_dp): RNNDropout()\n",
       "  )\n",
       "), opt_func=functools.partial(<class 'torch.optim.adam.Adam'>, betas=(0.9, 0.99)), loss_func=FlattenedLoss of CrossEntropyLoss(), metrics=[<function accuracy at 0x7f1f19d98560>], true_wd=True, bn_wd=True, wd=0.01, train_bn=True, path=PosixPath('.'), model_dir='models', callback_fns=[functools.partial(<class 'fastai.basic_train.Recorder'>, add_time=True, silent=False)], callbacks=[RNNTrainer\n",
       "learn: ...\n",
       "alpha: 2.0\n",
       "beta: 1.0], layer_groups=[Sequential(\n",
       "  (0): WeightDropout(\n",
       "    (module): LSTM(400, 1152, batch_first=True)\n",
       "  )\n",
       "  (1): RNNDropout()\n",
       "), Sequential(\n",
       "  (0): WeightDropout(\n",
       "    (module): LSTM(1152, 1152, batch_first=True)\n",
       "  )\n",
       "  (1): RNNDropout()\n",
       "), Sequential(\n",
       "  (0): WeightDropout(\n",
       "    (module): LSTM(1152, 400, batch_first=True)\n",
       "  )\n",
       "  (1): RNNDropout()\n",
       "), Sequential(\n",
       "  (0): Embedding(36832, 400, padding_idx=1)\n",
       "  (1): EmbeddingDropout(\n",
       "    (emb): Embedding(36832, 400, padding_idx=1)\n",
       "  )\n",
       "  (2): LinearDecoder(\n",
       "    (decoder): Linear(in_features=400, out_features=36832, bias=True)\n",
       "    (output_dp): RNNDropout()\n",
       "  )\n",
       ")], add_time=True, silent=False)"
      ]
     },
     "execution_count": 26,
     "metadata": {},
     "output_type": "execute_result"
    }
   ],
   "source": [
    "learn.load('fit_head')"
   ]
  },
  {
   "cell_type": "code",
   "execution_count": 27,
   "metadata": {},
   "outputs": [],
   "source": [
    "# unfreeze and train the whole thing.\n",
    "learn.unfreeze()"
   ]
  },
  {
   "cell_type": "code",
   "execution_count": 28,
   "metadata": {},
   "outputs": [
    {
     "data": {
      "text/html": [
       "<table border=\"1\" class=\"dataframe\">\n",
       "  <thead>\n",
       "    <tr style=\"text-align: left;\">\n",
       "      <th>epoch</th>\n",
       "      <th>train_loss</th>\n",
       "      <th>valid_loss</th>\n",
       "      <th>accuracy</th>\n",
       "      <th>time</th>\n",
       "    </tr>\n",
       "  </thead>\n",
       "  <tbody>\n",
       "    <tr>\n",
       "      <td>0</td>\n",
       "      <td>4.220889</td>\n",
       "      <td>4.197977</td>\n",
       "      <td>0.275919</td>\n",
       "      <td>05:50</td>\n",
       "    </tr>\n",
       "    <tr>\n",
       "      <td>1</td>\n",
       "      <td>4.311581</td>\n",
       "      <td>4.262852</td>\n",
       "      <td>0.270777</td>\n",
       "      <td>05:50</td>\n",
       "    </tr>\n",
       "    <tr>\n",
       "      <td>2</td>\n",
       "      <td>4.164465</td>\n",
       "      <td>4.103705</td>\n",
       "      <td>0.285325</td>\n",
       "      <td>05:50</td>\n",
       "    </tr>\n",
       "    <tr>\n",
       "      <td>3</td>\n",
       "      <td>3.923187</td>\n",
       "      <td>3.944425</td>\n",
       "      <td>0.303556</td>\n",
       "      <td>05:50</td>\n",
       "    </tr>\n",
       "    <tr>\n",
       "      <td>4</td>\n",
       "      <td>3.680363</td>\n",
       "      <td>3.905147</td>\n",
       "      <td>0.308927</td>\n",
       "      <td>05:50</td>\n",
       "    </tr>\n",
       "  </tbody>\n",
       "</table>"
      ],
      "text/plain": [
       "<IPython.core.display.HTML object>"
      ]
     },
     "metadata": {},
     "output_type": "display_data"
    }
   ],
   "source": [
    "learn.fit_one_cycle(5, 1e-2, moms=(0.8,0.7))"
   ]
  },
  {
   "cell_type": "code",
   "execution_count": 29,
   "metadata": {},
   "outputs": [],
   "source": [
    "learn.save('fine_tuned')"
   ]
  },
  {
   "cell_type": "code",
   "execution_count": 30,
   "metadata": {},
   "outputs": [
    {
     "data": {
      "text/plain": [
       "LanguageLearner(data=TextLMDataBunch;\n",
       "\n",
       "Train: LabelList (22500 items)\n",
       "x: LMTextList\n",
       "xxbos xxmaj with all this stuff going down at the moment with xxup mj i 've started listening to his music , watching the odd documentary here and there , watched xxmaj the xxmaj wiz and watched xxmaj moonwalker again . xxmaj maybe i just want to get a certain insight into this guy who i thought was really cool in the eighties just to maybe make up my mind whether he is guilty or innocent . xxmaj moonwalker is part biography , part feature film which i remember going to see at the cinema when it was originally released . xxmaj some of it has subtle messages about xxup mj 's feeling towards the press and also the obvious message of drugs are bad xxunk . \n",
       " \n",
       "  xxmaj visually impressive but of course this is all about xxmaj michael xxmaj jackson so unless you remotely like xxup mj in anyway then you are going to hate this and find it boring . xxmaj some may call xxup mj an egotist for consenting to the making of this movie xxup but xxup mj and most of his fans would say that he made it for the fans which if true is really nice of him . \n",
       " \n",
       "  xxmaj the actual feature film bit when it finally starts is only on for 20 minutes or so excluding the xxmaj smooth xxmaj criminal sequence and xxmaj joe xxmaj pesci is convincing as a psychopathic all powerful drug lord . xxmaj why he wants xxup mj dead so bad is beyond me . xxmaj because xxup mj overheard his plans ? xxmaj nah , xxmaj joe xxmaj pesci 's character ranted that he wanted people to know it is he who is supplying drugs etc so i dunno , maybe he just hates xxup mj 's music . \n",
       " \n",
       "  xxmaj lots of cool things in this like xxup mj turning into a car and a robot and the whole xxmaj speed xxmaj demon sequence . xxmaj also , the director must have had the patience of a saint when it came to filming the kiddy xxmaj bad sequence as usually directors hate working with one kid let alone a whole bunch of them performing a complex dance scene . \n",
       " \n",
       "  xxmaj bottom line , this movie is for people who like xxup mj on one level or another ( which i think is most people ) . xxmaj if not , then stay away . xxmaj it does try and give off a wholesome message and ironically xxup mj 's xxunk buddy in this movie is a girl ! xxmaj michael xxmaj jackson is truly one of the most talented people ever to grace this planet but is he guilty ? xxmaj well , with all the attention i 've gave this subject xxrep 4 . hmmm well i do n't know because people can be different behind closed doors , i know this for a fact . xxmaj he is either an extremely nice but stupid guy or one of the most sickest liars . i hope he is not the latter .,xxbos xxmaj the film starts with a manager ( xxmaj nicholas xxmaj bell ) giving welcome investors ( xxmaj robert xxmaj carradine ) to xxmaj primal xxmaj park . a secret project xxunk a primal animal using xxunk xxup dna , like xxunk xxmaj xxunk , and some scientists resurrect one of nature 's most fearsome predators , the xxmaj sabretooth tiger or xxmaj smilodon . xxmaj scientific ambition turns deadly , however , and when the high voltage fence is opened the creature escape and begins savagely stalking its prey - the human visitors , tourists and scientific . xxmaj meanwhile some youngsters enter in the restricted area of the security center and are attacked by a pack of large pre - historical animals which are xxunk and bigger . xxmaj in addition , a security agent ( xxmaj stacy xxmaj xxunk ) and her mate ( xxmaj brian xxmaj xxunk ) fight hardly against the carnivorous xxmaj xxunk . xxmaj the xxmaj sabretooths , themselves , of course , are the real star stars and they are astounding terrifyingly though not convincing . xxmaj the giant animals savagely are stalking its prey and the group run afoul and fight against one nature 's most fearsome predators . xxmaj furthermore a third xxmaj sabretooth more dangerous and slow stalks its victims . \n",
       " \n",
       "  xxmaj the movie delivers the goods with lots of blood and gore as beheading , hair - raising chills , full of scares when the xxmaj sabretooths appear with mediocre special effects . xxmaj the story provides exciting and stirring entertainment but it results to be quite boring .the giant animals are majority made by computer generator and seem totally lousy xxunk performances though the players reacting appropriately to becoming food . xxmaj actors give vigorously physical performances dodging the beasts , running , bound and leaps or dangling over walls . xxmaj and it packs a ridiculous final deadly scene . xxmaj no for small kids by realistic , gory and violent attack scenes . xxmaj other films about xxmaj sabretooths or xxmaj smilodon are the following : xxunk xxmaj james r xxmaj hickox with xxmaj vanessa xxmaj angel , xxmaj david xxmaj keith and xxmaj john xxmaj rhys xxmaj davies and the much better xxunk xxup xxunk by xxmaj roland xxmaj emmerich with with xxmaj steven xxmaj strait , xxmaj cliff xxmaj curtis and xxmaj camilla xxmaj belle . xxmaj this motion picture filled with bloody moments is badly directed by xxmaj george xxmaj miller and with no originality because takes too many elements from previous films . xxmaj miller is an xxmaj australian director usually working for television ( xxmaj tidal wave , xxmaj journey to the center of the earth , and many others ) and occasionally for cinema ( xxmaj the man from xxmaj snowy river , xxmaj zeus and xxmaj roxanne , xxmaj robinson xxmaj crusoe ) . xxmaj rating : xxmaj below average , bottom of barrel .,xxbos xxmaj it must be assumed that those who praised this film ( \\ the greatest filmed opera ever , \" did n't i read somewhere ? ) either do n't care for opera , do n't care for xxmaj wagner , or do n't care about anything except their desire to appear xxmaj cultured . xxmaj either as a representation of xxmaj wagner 's swan - song , or as a movie , this strikes me as an unmitigated disaster , with a leaden reading of the score matched to a xxunk , lugubrious realisation of the text . \n",
       " \n",
       "  xxmaj it 's questionable that people with ideas as to what an opera ( or , for that matter , a play , especially one by xxmaj shakespeare ) is \" about \" should be allowed anywhere near a theatre or film studio ; xxmaj syberberg , very xxunk , but without the smallest justification from xxmaj wagner 's text , decided that xxmaj parsifal is \" about \" bisexual integration , so that the title character , in the latter stages , xxunk into a kind of beatnik babe , though one who continues to sing high tenor -- few if any of the actors in the film are the singers , and we get a double dose of xxmaj armin xxmaj jordan , the conductor , who is seen as the face ( but not heard as the voice ) of xxmaj amfortas , and also appears monstrously in double exposure as a kind of xxmaj xxunk or xxmaj conductor xxmaj who xxmaj ate xxmaj xxunk during the playing of the xxmaj good xxmaj friday music -- in which , by the way , the xxunk xxunk of nature is represented by a xxunk of shopworn and flaccid xxunk stuck in ill - laid turf , an expedient which baffles me . xxmaj in the theatre we sometimes have to piece out such imperfections with our thoughts , but i ca n't think why xxmaj syberberg could n't splice in , for xxmaj parsifal and xxmaj gurnemanz , mountain pasture as lush as was provided for xxmaj julie xxmaj andrews in xxmaj sound of xxmaj music ... \n",
       " \n",
       "  xxmaj the sound is hard to endure , the high voices and the trumpets in particular possessing an aural glare that adds another sort of fatigue to our impatience with the uninspired conducting and xxunk unfolding of the ritual . xxmaj someone in another review mentioned the 1951 xxmaj bayreuth recording , and xxmaj xxunk , though his xxunk are often very slow , had what xxmaj jordan altogether lacks , a sense of pulse , a feeling for the ebb and flow of the music -- and , after half a century , the orchestral sound in that set , in modern xxunk , is still superior to this film . \",xxbos xxmaj superbly trashy and xxunk unpretentious 80 's exploitation , hooray ! xxmaj the pre - credits opening sequences somewhat give the false impression that we 're dealing with a serious and harrowing drama , but you need not fear because barely ten minutes later we 're up until our necks in nonsensical chainsaw battles , rough fist - fights , lurid dialogs and gratuitous nudity ! xxmaj bo and xxmaj ingrid are two orphaned siblings with an unusually close and even slightly perverted relationship . xxmaj can you imagine playfully ripping off the towel that covers your sister 's naked body and then stare at her xxunk genitals for several whole minutes ? xxmaj well , xxmaj bo does that to his sister and , judging by her dubbed laughter , she does n't mind at all . xxmaj sick , dude ! xxmaj anyway , as kids they fled from xxmaj russia with their parents , but nasty soldiers brutally slaughtered mommy and daddy . a friendly smuggler took custody over them , however , and even raised and trained xxmaj bo and xxmaj ingrid into expert smugglers . xxmaj when the actual plot lifts off , 20 years later , they 're facing their ultimate quest as the mythical and incredibly valuable xxmaj white xxmaj fire diamond is coincidentally found in a mine . xxmaj very few things in life ever made as little sense as the plot and narrative structure of \\ xxmaj white xxmaj fire \" , but it sure is a lot of fun to watch . xxmaj most of the time you have no clue who 's beating up who or for what cause ( and i bet the actors understood even less ) but whatever ! xxmaj the violence is magnificently grotesque and every single plot twist is pleasingly retarded . xxmaj the script goes totally bonkers beyond repair when suddenly  and i wo n't reveal for what reason  xxmaj bo needs a replacement for xxmaj ingrid and xxmaj fred xxmaj williamson enters the scene with a big cigar in his mouth and his sleazy black fingers all over the local prostitutes . xxmaj bo 's principal opponent is an xxmaj italian chick with big breasts but a hideous accent , the preposterous but catchy theme song plays at least a dozen times throughout the film , there 's the obligatory \" we're - falling - in - love \" montage and loads of other attractions ! xxmaj my xxmaj god , what a brilliant experience . xxmaj the original xxmaj french title translates itself as \" xxmaj life to xxmaj survive \" , which is uniquely appropriate because it makes just as much sense as the rest of the movie : xxmaj none ! \",xxbos i do nt know why people think this is such a bad movie . xxmaj its got a pretty good plot , some good action , and the change of location for xxmaj harry does not hurt either . xxmaj sure some of its offensive and gratuitous but this is not the only movie like that . xxmaj eastwood is in good form as xxmaj dirty xxmaj harry , and i liked xxmaj pat xxmaj hingle in this movie as the small town cop . xxmaj if you liked xxup dirty xxup harry , then you should see this one , its a lot better than xxup the xxup dead xxup pool . 4 / 5\n",
       "y: LMLabelList\n",
       ",,,,\n",
       "Path: .;\n",
       "\n",
       "Valid: LabelList (2500 items)\n",
       "x: LMTextList\n",
       "xxbos a few years ago , a friend got from one of his other friends a video with the xxmaj michael xxmaj mann film ' xxmaj heat ' on it . xxmaj after we finished that movie , and were about to stand up , we saw that there is another film just after , tough on the cassette 's envelope the owner did n't write it up . xxmaj yet we were all glued back to our seats by its distinct opening , which lacked credits . \n",
       " \n",
       "  xxmaj some two hours later , i just sat there wondering : how could i not have heard of this masterpiece before ? ... \n",
       " \n",
       "  xxmaj this film was xxmaj europa . xxmaj lars von xxmaj trier woke film noir from the dead , deconstructed reality with intentionally obvious sets , yet often there was haunting similarity with post - war xxmaj german photographs i saw . xxmaj and then the tricky cuts ! \n",
       " \n",
       "  xxmaj the story itself is a hard - to - take moral odyssey that has no happy end . a young xxmaj american pacifist of xxmaj german descent comes to post - war xxmaj germany , intent on doing some good to pay for the bombs his countrymen dropped . xxmaj but he mostly meets distrust and self - destructive defiance . xxmaj he hires with xxmaj zentropa , a dining - and - sleeping - car company ( modeled on xxmaj xxunk ) , whose owner is one of the xxmaj nazi collaborators the xxmaj xxunk whitewash . xxmaj our hero falls in love with his daughter - who later turns out to be a member of the xxmaj werewolf , xxmaj nazi post - war terrorists . xxmaj when he does n't understand the world ( or just xxmaj europeans ) anymore , in his rage he blows up a railroad bridge under a train which he just saved . \n",
       " \n",
       "  xxmaj as a final note , for historical correctness : in the real world , the xxmaj werewolf were nowhere as important as the film implies , they were mostly a final xxmaj nazi propaganda coup . xxmaj after an xxup ss unit assassinated the major of xxmaj allied - occupied xxmaj xxunk , two months before the xxunk , the xxmaj nazis announced the creation of whole legions of xxunk and terrorists who will be ready to fight behind the lines , the xxmaj werewolf . xxmaj but only a few hundred of mostly xxmaj hitler xxmaj youth received some training , and while two or three times some were deployed to murder suspected communists or forced - labourer foreigners in xxmaj bavarian villages to imprint lasting fear on inhabitants , with xxmaj hitler 's death and the war 's end it all fell apart . \n",
       " \n",
       "  xxmaj however , the xxmaj werewolf propaganda had a profound effect on the xxunk . xxmaj they feared the xxmaj werewolf everywhere , suspected it behind any serious accident - but without exception another cause was found later ( ignored by some recent pseudo - historians ) . xxmaj for example , when a gas main exploded in the police xxup hq of bombed - out xxmaj xxunk , or when the xxmaj soviet military commander died in a motorbike accident in xxmaj berlin . xxmaj the effect was strongest on the xxmaj soviets , who arrested tens of thousands ( in large part children ! ) ' xxunk ' on suspicion of being xxmaj werewolf , and closed them off in prison camps where a lot of them died .,xxbos xxmaj am not familiar with the trilogy but came upon this film last night on xxmaj showtime . xxmaj the film looked very well done with the set design and the cinematography , but the screenplay was stilted and wooden . xxmaj the acting was fairly bad- thought the two female leads were serviceable . xxmaj you never really believed anything the supporting actors said though . xxmaj there were the xxunk bible - thumping xxmaj reverend without a hint of nuance , authoritative xxmaj captain , hot - headed soldier , etc . i am sorry to say that based on these deficiencies i clocked it straight away as xxmaj canadian without knowing it to be such - the xxmaj telefilm xxmaj canada end credits gave it away . i know i 'm a horrible person . \n",
       " \n",
       "  xxmaj maybe i missed something in the beginning but the hostility towards the girls is never explained . xxmaj here they are besieged in a fort by werewolves and the men are wasting time and energy xxunk two young women for no reason . xxup focus people . xxmaj there 's a bit more of a pressing situation beyond your walls than whether or not these girls are lesbians - that 's just my inference for the hostility directed towards them . xxmaj if they can aim and fire a gun you might as well make nice with them . xxmaj the question of their \\ immortal soul \" can be resolved later . \n",
       " \n",
       "  xxmaj also , i guess this relates to the rest of the trilogy , these girls are supposed to be the protagonists ? xxmaj one of them murdered the xxmaj indian guy at the end that saved one of their lives . i guess one is just a victim of her condition who ca n't be necessarily blamed for her actions , but the other is just a murderer who does n't deserve her happy ending . \",xxbos o my gosh ... xxmaj just give me a minute to breath . xxmaj this movie takes you on an awesome ride and does n't let you go until the very last blow in your face ending . xxmaj this is the the movie for fans of xxmaj stormriders and such . xxmaj legend of xxmaj zu was beautifully created , although i did n't like a few things , they used alot of stand ins . i wanted to see the real person fight but , oh well ... a few small let downs , and i did n't really like it a lot until i watched it again , when you understand it more it totally kicks a * * ! i encourage anyone who ever wanted to see a true xxmaj asian movie , to see this movie . i give this movie one of my highest ratings . xxmaj go and see it when it comes out in xxmaj america ! ! !,xxbos xxup uk newspaper reviews seem to have concentrated on the fact that the reviewers tend to know xxmaj toby xxmaj young , the journalist on whose real - life experiences this movie is based . xxmaj the key word here is \\ based \" . xxmaj how xxmaj to xxmaj lose xxmaj friends is a fictitious xxunk . \n",
       " \n",
       "  xxmaj sidney xxmaj young joins a prestigious gossip magazine in xxmaj new xxmaj york , where he proceeds to make gaffe after gaffe before finally xxmaj getting xxmaj it xxmaj right and xxmaj making xxmaj it . xxmaj this involves him selling out , and the movie has some serious points to make about journalistic integrity . xxmaj however , they are not overdone : the main substance remains a comedy which centres around xxmaj sidney 's misadventures . xxmaj the script has its cake and eats it in that xxmaj sidney is a stupid , well - meaning buffoon at the same time as being a smart , moderately obnoxious skilled writer . xxmaj this contradiction is never that much of an issue , because xxmaj simon xxmaj pegg ( as xxmaj sidney ) projects likability too well . \n",
       " \n",
       "  xxmaj jeff xxmaj bridges underplays xxmaj sidney 's editor a little too effectively , and xxmaj kirsten xxmaj dunst is rather anonymous as the conflicted eventual object of xxmaj sidney 's affections xxmaj and , with regard to xxmaj megan xxmaj fox ( who plays an airhead bimbo starlet ) , i can say only this : just say the word , xxmaj miss xxmaj fox , and i will leave my wife , sell all my belongings , and buy myself a plane ticket in order to take my place at your side as your xxunk . xxmaj of course , given that i 'm a fat xxunk - old xxmaj english accountant , you might not find my offer too enticing , but it 's there on the table anyway . xxmaj given how short her career has been so far , one might think it is a little too soon for xxmaj megan xxmaj fox to take on a role which mercilessly lampoons the sort of actress she might be thought to become : however , she does it sweetly , with some skill , and extremely xxunk . xxmaj this girl will go far . \n",
       " \n",
       "  xxmaj there is stalwart support from a variety of seasoned performers - xxmaj miriam xxmaj xxunk and xxmaj bill xxmaj xxunk from the xxup uk , xxmaj gillian xxmaj anderson and xxmaj danny xxmaj huston from the xxup us . \n",
       " \n",
       "  xxmaj there are several laugh - out - loud moments , and i smiled most of the way through . xxmaj as ever , the f - word makes appearances when it really does n't need to , although at least a couple of these are very funny . \",xxbos xxmaj this really does n't do the blues justice . xxmaj it starts out badly with images from the voyager probe and xxmaj blind xxmaj willie xxunk ( or was it xxmaj blind xxmaj lemon xxmaj jefferson ? xxmaj someone blind anyway ) apparently narrating from outer space ( ? ) and telling us the life stories of various blues musicians . xxmaj corny as it is , this might be the visually most interesting part of this documentary . xxmaj afterwards the only thing to see is actors xxunk mouthing the classic tunes , filmed in fake 20s black and white intercut with the likes of xxmaj beck and xxmaj xxunk xxmaj copeland raping the same songs afterwards . xxmaj this is a good device to show us why the old xxmaj blues greats were really so great , but it does n't make for compelling viewing . xxmaj there is hardly anything in here that could justify making it a film and not a radio play . xxmaj nobody should be forced to see these badly done xxunk . xxmaj it 's a shame for xxmaj wenders , xxmaj scorsese and especially for the xxmaj blues . xxmaj avoid at all costs .\n",
       "y: LMLabelList\n",
       ",,,,\n",
       "Path: .;\n",
       "\n",
       "Test: None, model=SequentialRNN(\n",
       "  (0): AWD_LSTM(\n",
       "    (encoder): Embedding(36832, 400, padding_idx=1)\n",
       "    (encoder_dp): EmbeddingDropout(\n",
       "      (emb): Embedding(36832, 400, padding_idx=1)\n",
       "    )\n",
       "    (rnns): ModuleList(\n",
       "      (0): WeightDropout(\n",
       "        (module): LSTM(400, 1152, batch_first=True)\n",
       "      )\n",
       "      (1): WeightDropout(\n",
       "        (module): LSTM(1152, 1152, batch_first=True)\n",
       "      )\n",
       "      (2): WeightDropout(\n",
       "        (module): LSTM(1152, 400, batch_first=True)\n",
       "      )\n",
       "    )\n",
       "    (input_dp): RNNDropout()\n",
       "    (hidden_dps): ModuleList(\n",
       "      (0): RNNDropout()\n",
       "      (1): RNNDropout()\n",
       "      (2): RNNDropout()\n",
       "    )\n",
       "  )\n",
       "  (1): LinearDecoder(\n",
       "    (decoder): Linear(in_features=400, out_features=36832, bias=True)\n",
       "    (output_dp): RNNDropout()\n",
       "  )\n",
       "), opt_func=functools.partial(<class 'torch.optim.adam.Adam'>, betas=(0.9, 0.99)), loss_func=FlattenedLoss of CrossEntropyLoss(), metrics=[<function accuracy at 0x7f1f19d98560>], true_wd=True, bn_wd=True, wd=0.01, train_bn=True, path=PosixPath('.'), model_dir='models', callback_fns=[functools.partial(<class 'fastai.basic_train.Recorder'>, add_time=True, silent=False)], callbacks=[RNNTrainer\n",
       "learn: ...\n",
       "alpha: 2.0\n",
       "beta: 1.0], layer_groups=[Sequential(\n",
       "  (0): WeightDropout(\n",
       "    (module): LSTM(400, 1152, batch_first=True)\n",
       "  )\n",
       "  (1): RNNDropout()\n",
       "), Sequential(\n",
       "  (0): WeightDropout(\n",
       "    (module): LSTM(1152, 1152, batch_first=True)\n",
       "  )\n",
       "  (1): RNNDropout()\n",
       "), Sequential(\n",
       "  (0): WeightDropout(\n",
       "    (module): LSTM(1152, 400, batch_first=True)\n",
       "  )\n",
       "  (1): RNNDropout()\n",
       "), Sequential(\n",
       "  (0): Embedding(36832, 400, padding_idx=1)\n",
       "  (1): EmbeddingDropout(\n",
       "    (emb): Embedding(36832, 400, padding_idx=1)\n",
       "  )\n",
       "  (2): LinearDecoder(\n",
       "    (decoder): Linear(in_features=400, out_features=36832, bias=True)\n",
       "    (output_dp): RNNDropout()\n",
       "  )\n",
       ")], add_time=True, silent=False)"
      ]
     },
     "execution_count": 30,
     "metadata": {},
     "output_type": "execute_result"
    }
   ],
   "source": [
    "learn.load('fine_tuned')"
   ]
  },
  {
   "cell_type": "code",
   "execution_count": 31,
   "metadata": {},
   "outputs": [],
   "source": [
    "learn.save_encoder('fine_tuned_enc')"
   ]
  },
  {
   "cell_type": "markdown",
   "metadata": {},
   "source": [
    "### Classifier"
   ]
  },
  {
   "cell_type": "code",
   "execution_count": 32,
   "metadata": {},
   "outputs": [
    {
     "data": {
      "text/html": [],
      "text/plain": [
       "<IPython.core.display.HTML object>"
      ]
     },
     "metadata": {},
     "output_type": "display_data"
    },
    {
     "data": {
      "text/html": [],
      "text/plain": [
       "<IPython.core.display.HTML object>"
      ]
     },
     "metadata": {},
     "output_type": "display_data"
    },
    {
     "data": {
      "text/html": [],
      "text/plain": [
       "<IPython.core.display.HTML object>"
      ]
     },
     "metadata": {},
     "output_type": "display_data"
    },
    {
     "data": {
      "text/html": [
       "<table border=\"1\" class=\"dataframe\">\n",
       "  <thead>\n",
       "    <tr style=\"text-align: right;\">\n",
       "      <th>text</th>\n",
       "      <th>target</th>\n",
       "    </tr>\n",
       "  </thead>\n",
       "  <tbody>\n",
       "    <tr>\n",
       "      <td>xxbos xxmaj match 1 : xxmaj tag xxmaj team xxmaj table xxmaj match xxmaj bubba xxmaj ray and xxmaj spike xxmaj dudley vs xxmaj eddie xxmaj guerrero and xxmaj chris xxmaj benoit xxmaj bubba xxmaj ray and xxmaj spike xxmaj dudley started things off with a xxmaj tag xxmaj team xxmaj table xxmaj match against xxmaj eddie xxmaj guerrero and xxmaj chris xxmaj benoit . xxmaj according to the rules</td>\n",
       "      <td>1</td>\n",
       "    </tr>\n",
       "    <tr>\n",
       "      <td>xxbos * ! ! - xxup spoilers - ! ! * \\n \\n  xxmaj before i begin this , let me say that i have had both the advantages of seeing this movie on the big screen and of having seen the \\ xxmaj authorized xxmaj version \" of this movie , remade by xxmaj stephen xxmaj king , himself , in 1997 . \\n \\n  xxmaj both</td>\n",
       "      <td>1</td>\n",
       "    </tr>\n",
       "    <tr>\n",
       "      <td>xxbos xxmaj heavy - handed xxunk . xxmaj writers using characters as xxunk to speak for themselves . xxmaj predictable , plodding plot points ( say that five times fast ) . a child 's imitation of xxmaj britney xxmaj spears . xxmaj this film has all the earmarks of a xxmaj lifetime xxmaj special reject . \\n \\n  i honestly believe that xxmaj jesus xxmaj xxunk and xxmaj</td>\n",
       "      <td>0</td>\n",
       "    </tr>\n",
       "    <tr>\n",
       "      <td>xxbos xxmaj prior to this release , xxmaj neil labute had this to say about the 1973 original : \\ xxmaj it 's surprising how many people say it 's their favorite soundtrack . i 'm like , come on ! xxmaj you may not like the new one , but if that 's your favorite soundtrack , i do n't know if i * want * you to like</td>\n",
       "      <td>0</td>\n",
       "    </tr>\n",
       "    <tr>\n",
       "      <td>xxbos \\ a xxmaj damsel in xxmaj distress \" is definitely not one of xxmaj fred xxmaj astaire 's better musicals . xxmaj but even xxmaj astaire 's bad films always had some good moments . \\n \\n  xxmaj in \" xxmaj damsel , \" xxmaj astaire is xxmaj jerry xxmaj halliday , an xxmaj american musical star who is in xxmaj london on a personal appearance tour .</td>\n",
       "      <td>0</td>\n",
       "    </tr>\n",
       "  </tbody>\n",
       "</table>"
      ],
      "text/plain": [
       "<IPython.core.display.HTML object>"
      ]
     },
     "metadata": {},
     "output_type": "display_data"
    }
   ],
   "source": [
    "test_data = TextList.from_df(df_test, cols='review', vocab=data.vocab)\n",
    "\n",
    "data_clas = (TextList.from_df(df_train, cols='review', vocab=data.vocab)\n",
    "             .split_by_rand_pct(0.2)\n",
    "             .label_from_df(cols = 'sentiment')\n",
    "             .add_test(test_data)        \n",
    "             .databunch(bs=32))\n",
    "\n",
    "data_clas.show_batch()"
   ]
  },
  {
   "cell_type": "code",
   "execution_count": 33,
   "metadata": {},
   "outputs": [
    {
     "data": {
      "text/plain": [
       "RNNLearner(data=TextClasDataBunch;\n",
       "\n",
       "Train: LabelList (20000 items)\n",
       "x: TextList\n",
       "xxbos xxmaj with all this stuff going down at the moment with xxup mj i 've started listening to his music , watching the odd documentary here and there , watched xxmaj the xxmaj wiz and watched xxmaj moonwalker again . xxmaj maybe i just want to get a certain insight into this guy who i thought was really cool in the eighties just to maybe make up my mind whether he is guilty or innocent . xxmaj moonwalker is part biography , part feature film which i remember going to see at the cinema when it was originally released . xxmaj some of it has subtle messages about xxup mj 's feeling towards the press and also the obvious message of drugs are bad xxunk . \n",
       " \n",
       "  xxmaj visually impressive but of course this is all about xxmaj michael xxmaj jackson so unless you remotely like xxup mj in anyway then you are going to hate this and find it boring . xxmaj some may call xxup mj an egotist for consenting to the making of this movie xxup but xxup mj and most of his fans would say that he made it for the fans which if true is really nice of him . \n",
       " \n",
       "  xxmaj the actual feature film bit when it finally starts is only on for 20 minutes or so excluding the xxmaj smooth xxmaj criminal sequence and xxmaj joe xxmaj pesci is convincing as a psychopathic all powerful drug lord . xxmaj why he wants xxup mj dead so bad is beyond me . xxmaj because xxup mj overheard his plans ? xxmaj nah , xxmaj joe xxmaj pesci 's character ranted that he wanted people to know it is he who is supplying drugs etc so i dunno , maybe he just hates xxup mj 's music . \n",
       " \n",
       "  xxmaj lots of cool things in this like xxup mj turning into a car and a robot and the whole xxmaj speed xxmaj demon sequence . xxmaj also , the director must have had the patience of a saint when it came to filming the kiddy xxmaj bad sequence as usually directors hate working with one kid let alone a whole bunch of them performing a complex dance scene . \n",
       " \n",
       "  xxmaj bottom line , this movie is for people who like xxup mj on one level or another ( which i think is most people ) . xxmaj if not , then stay away . xxmaj it does try and give off a wholesome message and ironically xxup mj 's xxunk buddy in this movie is a girl ! xxmaj michael xxmaj jackson is truly one of the most talented people ever to grace this planet but is he guilty ? xxmaj well , with all the attention i 've gave this subject xxrep 4 . hmmm well i do n't know because people can be different behind closed doors , i know this for a fact . xxmaj he is either an extremely nice but stupid guy or one of the most sickest liars . i hope he is not the latter .,xxbos \\ xxmaj the xxmaj classic xxmaj war of the xxmaj worlds \" by xxmaj timothy xxmaj hines is a very entertaining film that obviously goes to great effort and lengths to faithfully recreate xxup h. xxup g. xxmaj wells ' classic book . xxmaj mr. xxmaj hines succeeds in doing so . i , and those who watched his film with me , appreciated the fact that it was not the standard , predictable xxmaj hollywood fare that comes out every year , e.g. the xxmaj spielberg version with xxmaj tom xxmaj cruise that had only the slightest resemblance to the book . xxmaj obviously , everyone looks for different things in a movie . xxmaj those who envision themselves as amateur \" critics \" look only to criticize everything they can . xxmaj others rate a movie on more important bases , like being entertained , which is why most people never agree with the \" critics \" . xxmaj we enjoyed the effort xxmaj mr. xxmaj hines put into being faithful to xxup h.g. xxmaj wells ' classic novel , and we found it to be very entertaining . xxmaj this made it easy to overlook what the \" critics \" perceive to be its shortcomings . \",xxbos xxmaj the film starts with a manager ( xxmaj nicholas xxmaj bell ) giving welcome investors ( xxmaj robert xxmaj carradine ) to xxmaj primal xxmaj park . a secret project xxunk a primal animal using xxunk xxup dna , like xxunk xxmaj xxunk , and some scientists resurrect one of nature 's most fearsome predators , the xxmaj sabretooth tiger or xxmaj smilodon . xxmaj scientific ambition turns deadly , however , and when the high voltage fence is opened the creature escape and begins savagely stalking its prey - the human visitors , tourists and scientific . xxmaj meanwhile some youngsters enter in the restricted area of the security center and are attacked by a pack of large pre - historical animals which are xxunk and bigger . xxmaj in addition , a security agent ( xxmaj stacy xxmaj xxunk ) and her mate ( xxmaj brian xxmaj xxunk ) fight hardly against the carnivorous xxmaj xxunk . xxmaj the xxmaj sabretooths , themselves , of course , are the real star stars and they are astounding terrifyingly though not convincing . xxmaj the giant animals savagely are stalking its prey and the group run afoul and fight against one nature 's most fearsome predators . xxmaj furthermore a third xxmaj sabretooth more dangerous and slow stalks its victims . \n",
       " \n",
       "  xxmaj the movie delivers the goods with lots of blood and gore as beheading , hair - raising chills , full of scares when the xxmaj sabretooths appear with mediocre special effects . xxmaj the story provides exciting and stirring entertainment but it results to be quite boring .the giant animals are majority made by computer generator and seem totally lousy xxunk performances though the players reacting appropriately to becoming food . xxmaj actors give vigorously physical performances dodging the beasts , running , bound and leaps or dangling over walls . xxmaj and it packs a ridiculous final deadly scene . xxmaj no for small kids by realistic , gory and violent attack scenes . xxmaj other films about xxmaj sabretooths or xxmaj smilodon are the following : xxunk xxmaj james r xxmaj hickox with xxmaj vanessa xxmaj angel , xxmaj david xxmaj keith and xxmaj john xxmaj rhys xxmaj davies and the much better xxunk xxup xxunk by xxmaj roland xxmaj emmerich with with xxmaj steven xxmaj strait , xxmaj cliff xxmaj curtis and xxmaj camilla xxmaj belle . xxmaj this motion picture filled with bloody moments is badly directed by xxmaj george xxmaj miller and with no originality because takes too many elements from previous films . xxmaj miller is an xxmaj australian director usually working for television ( xxmaj tidal wave , xxmaj journey to the center of the earth , and many others ) and occasionally for cinema ( xxmaj the man from xxmaj snowy river , xxmaj zeus and xxmaj roxanne , xxmaj robinson xxmaj crusoe ) . xxmaj rating : xxmaj below average , bottom of barrel .,xxbos xxmaj it must be assumed that those who praised this film ( \\ the greatest filmed opera ever , \" did n't i read somewhere ? ) either do n't care for opera , do n't care for xxmaj wagner , or do n't care about anything except their desire to appear xxmaj cultured . xxmaj either as a representation of xxmaj wagner 's swan - song , or as a movie , this strikes me as an unmitigated disaster , with a leaden reading of the score matched to a xxunk , lugubrious realisation of the text . \n",
       " \n",
       "  xxmaj it 's questionable that people with ideas as to what an opera ( or , for that matter , a play , especially one by xxmaj shakespeare ) is \" about \" should be allowed anywhere near a theatre or film studio ; xxmaj syberberg , very xxunk , but without the smallest justification from xxmaj wagner 's text , decided that xxmaj parsifal is \" about \" bisexual integration , so that the title character , in the latter stages , xxunk into a kind of beatnik babe , though one who continues to sing high tenor -- few if any of the actors in the film are the singers , and we get a double dose of xxmaj armin xxmaj jordan , the conductor , who is seen as the face ( but not heard as the voice ) of xxmaj amfortas , and also appears monstrously in double exposure as a kind of xxmaj xxunk or xxmaj conductor xxmaj who xxmaj ate xxmaj xxunk during the playing of the xxmaj good xxmaj friday music -- in which , by the way , the xxunk xxunk of nature is represented by a xxunk of shopworn and flaccid xxunk stuck in ill - laid turf , an expedient which baffles me . xxmaj in the theatre we sometimes have to piece out such imperfections with our thoughts , but i ca n't think why xxmaj syberberg could n't splice in , for xxmaj parsifal and xxmaj gurnemanz , mountain pasture as lush as was provided for xxmaj julie xxmaj andrews in xxmaj sound of xxmaj music ... \n",
       " \n",
       "  xxmaj the sound is hard to endure , the high voices and the trumpets in particular possessing an aural glare that adds another sort of fatigue to our impatience with the uninspired conducting and xxunk unfolding of the ritual . xxmaj someone in another review mentioned the 1951 xxmaj bayreuth recording , and xxmaj xxunk , though his xxunk are often very slow , had what xxmaj jordan altogether lacks , a sense of pulse , a feeling for the ebb and flow of the music -- and , after half a century , the orchestral sound in that set , in modern xxunk , is still superior to this film . \",xxbos xxmaj superbly trashy and xxunk unpretentious 80 's exploitation , hooray ! xxmaj the pre - credits opening sequences somewhat give the false impression that we 're dealing with a serious and harrowing drama , but you need not fear because barely ten minutes later we 're up until our necks in nonsensical chainsaw battles , rough fist - fights , lurid dialogs and gratuitous nudity ! xxmaj bo and xxmaj ingrid are two orphaned siblings with an unusually close and even slightly perverted relationship . xxmaj can you imagine playfully ripping off the towel that covers your sister 's naked body and then stare at her xxunk genitals for several whole minutes ? xxmaj well , xxmaj bo does that to his sister and , judging by her dubbed laughter , she does n't mind at all . xxmaj sick , dude ! xxmaj anyway , as kids they fled from xxmaj russia with their parents , but nasty soldiers brutally slaughtered mommy and daddy . a friendly smuggler took custody over them , however , and even raised and trained xxmaj bo and xxmaj ingrid into expert smugglers . xxmaj when the actual plot lifts off , 20 years later , they 're facing their ultimate quest as the mythical and incredibly valuable xxmaj white xxmaj fire diamond is coincidentally found in a mine . xxmaj very few things in life ever made as little sense as the plot and narrative structure of \\ xxmaj white xxmaj fire \" , but it sure is a lot of fun to watch . xxmaj most of the time you have no clue who 's beating up who or for what cause ( and i bet the actors understood even less ) but whatever ! xxmaj the violence is magnificently grotesque and every single plot twist is pleasingly retarded . xxmaj the script goes totally bonkers beyond repair when suddenly  and i wo n't reveal for what reason  xxmaj bo needs a replacement for xxmaj ingrid and xxmaj fred xxmaj williamson enters the scene with a big cigar in his mouth and his sleazy black fingers all over the local prostitutes . xxmaj bo 's principal opponent is an xxmaj italian chick with big breasts but a hideous accent , the preposterous but catchy theme song plays at least a dozen times throughout the film , there 's the obligatory \" we're - falling - in - love \" montage and loads of other attractions ! xxmaj my xxmaj god , what a brilliant experience . xxmaj the original xxmaj french title translates itself as \" xxmaj life to xxmaj survive \" , which is uniquely appropriate because it makes just as much sense as the rest of the movie : xxmaj none ! \"\n",
       "y: CategoryList\n",
       "1,1,0,0,1\n",
       "Path: .;\n",
       "\n",
       "Valid: LabelList (5000 items)\n",
       "x: TextList\n",
       "xxbos xxmaj the energetic young producer of theatrical prologues ( those staged performances , usually musical , that often proceeded the movie in the larger cinemas in bygone days ) must deal with crooked competition , fraudulent partners , unfaithful lovers & amateur talent to realize his dream of making his mark on the xxup footlight xxup parade . \n",
       " \n",
       "  xxmaj while closely resembling other xxmaj warner 's musical xxunk , notably the xxup xxunk films , this movie had a special attraction none of the others had : xxmaj jimmy xxmaj cagney . xxmaj he is a wonder , loose - xxunk and lithe , as agile as any xxunk - a creature he actually mimics a few times during the movie . xxmaj cagney grabs the viewers attention & never lets go , powering the rapid - fire dialogue and corny plot with his charisma & buoyant charm . \n",
       " \n",
       "  xxmaj the rest of the cast gives their best , as well . xxmaj joan xxmaj blondell is perfect as the smart - mouthed , big - hearted blonde secretary , infatuated with xxmaj cagney ( major quibble - why was n't she given a musical number ? ) . xxmaj dick xxmaj powell & xxmaj ruby xxmaj keeler once again play lovers onstage & off ; the fact that her singing & acting abilities are a bit on the lean side are compensated for by her dancing ; xxmaj powell still exudes boyish enthusiasm in his xxunk position as second male lead . \n",
       " \n",
       "  xxmaj guy xxmaj kibbee & xxmaj hugh xxmaj herbert are lots of fun as brothers - in - law , both scheming to cheat xxmaj cagney in different ways . xxmaj ruth xxmaj donnelly scores as xxmaj kibbee 's wealthy wife , a woman devoted to her handsome xxunk . xxmaj frank mchugh 's harried choreographer is an apt foil for xxmaj cagney 's wit . xxmaj herman xxmaj bing is hilarious in his one tiny scene as a music xxunk . xxmaj mavens will spot little xxmaj billy xxmaj barty , xxmaj jimmy xxmaj xxunk & maybe even xxmaj john xxmaj garfield during the musical numbers . \n",
       " \n",
       "  xxmaj finally , there 's xxmaj busby xxmaj berkeley , choreographer nonpareil . xxmaj his xxunk confections , sprinkled throughout the decade of the 1930 's , were a supreme example of the cinematic escapism that xxmaj depression audiences wanted to enjoy . xxmaj the big joke about xxmaj berkeley 's creations , of course , was that they were meant , as part of the plot , to be stage productions . xxmaj but no theater could ever hold these products of the master 's imagination . xxmaj they are perfect illustrations of the type of entertainment only made possible by the movie camera . \n",
       " \n",
       "  xxmaj berkeley 's musical offerings generally took one of two different approaches , either a story ( often rather bizarre ) told with song & dance ; or else stunning xxunk designed numbers , eye candy , featuring plentiful chorus girls , overhead camerawork & a romantic tune . xxmaj in a spasm of xxunk extravagance , xxup footlight xxup parade climaxes with three xxmaj berkeley masterworks : ` xxmaj honeymoon xxmaj hotel ' and its pre - xxmaj production xxmaj code telling of a couple 's wedding night ; ` xxmaj by a xxmaj waterfall ' - dozens of xxunk females , splashing , floating & diving in perfect patterns & designs ( peer closely & you 'll see how the synchronous effects were achieved ) ; and finally , ` xxmaj shanghai xxmaj lil ' - a fitting tribute to the talents of both xxmaj cagney & xxmaj berkeley .,xxbos i watched this tape , immediately rewound it , watched it again and laughed twice as hard . i strongly recommend this tape for those who are not hateful of , but uncomfortable around xxunk . xxmaj it shows you that transvestitism is a feature , rather than the entirety of one 's being . xxmaj the comedy is not single issue . xxmaj this man is brilliant . xxmaj all comics should aspire to his level of candor , intelligence and talent .,xxbos xxmaj this is a thoroughly diabolical tale of just how bad things can go wrong . a simple robbery . xxmaj pick up some serious change . xxmaj get our finances together and everything will be hunky - dory . xxmaj xxunk and pop 's jewelry store ? xxmaj no problem . xxmaj insurance pays for it all . xxmaj no guns . xxmaj nobody gets hurt . xxmaj easy money . \n",
       " \n",
       "  xxmaj older , more successful ( it would appear ) brother xxmaj andy ( xxmaj philip xxmaj seymour xxmaj hoffman ) has a few minor problems . xxmaj heroin addiction , cocaine xxunk . a wife ( xxmaj marisa xxmaj tomei ) that \n",
       " well , he ca n't seem to perform for . xxmaj his flat belly days long gone . xxmaj younger , sweet , slightly dim - witted younger brother , xxmaj hank ( xxmaj ethan xxmaj hawke ) with a few xxunk problems of his own . xxmaj behind in child support payments for his daughter , in debt to friends and relatives , not exactly wowing them in the work of work , etc . \n",
       " \n",
       "  xxmaj sydney xxmaj lumet , in this performance at the age of 82 ( ! ) , directs and gets it xxunk percent right , which is hard to do in a thriller . i have seen more thrillers than i can remember and most of the time the director gets the movie printed and lives with the plot holes , the improbabilities , the cheesy scenes , and the hurry - up ending . xxmaj here xxmaj lumet makes a thriller like it 's a work of art . xxmaj every detail is perfect . xxmaj the acting is superb . xxmaj the plot has no holes . xxmaj the story rings true and clear and represents a tale about human frailty that would honor the greatest filmmakers and even the xxmaj bard himself . \n",
       " \n",
       "  xxmaj hoffman of course is excellent . xxmaj when you do n't have marquee , leading man presence , you have to get by on talent , workmanship and pure concentration . xxmaj ethan xxmaj hawke , who is no stranger to the sweet , little guy role , adds a layer of desperation and all too human incompetence to the part so that we do n't know whether to pity him or trash him . xxmaj albert xxmaj finney plays the father of the wayward sons with a kind of steely intensity that belies his age . xxmaj and xxmaj marisa xxmaj tomei , who has magical qualities of sexiness to go along with her unique creativity , manages to be both vulnerable and hard as nails as xxmaj andy 's two timing wife . ( xxmaj but who could blame her ? ) xxmaj it 's almost a movie reviewer 's sacrilege to give a commercial thriller five or ten stars , but if you study this film , as all aspiring film makers would be well advised to do , you will notice the kind of excessive ( according to most xxmaj hollywood producers ) attention to detail that makes for real art -- the sort of thing that only great artists can do , and indeed can not help but do . ( xxmaj by the way , i think there were twenty producers on this xxunk , maybe a dozen ; check the credits . ) xxmaj all i can say in summation is , xxmaj way to go xxmaj sydney xxmaj lumet , author of a slew of excellent films , and to show such fidelity to your craft and your art at such an advanced xxunk . xxmaj may we all do half so well . \n",
       " \n",
       "  xxmaj okay , the xxunk percent . xxmaj it was unlikely that the father ( xxmaj albert xxmaj finney ) could have followed the xxunk that xxmaj andy took around xxmaj new xxmaj york without somehow losing the tail . xxmaj this is minor , and i wish all thrillers could have so small a blip . xxmaj also one wonders why xxmaj lumet decided not to tell us about the fate of xxmaj hank at the end . xxmaj we can guess and guess . xxmaj perhaps his fate fell onto the cutting room floor . xxmaj perhaps xxmaj lumet was not satisfied with what was filmed and time ran out , and he just said , \\ xxmaj leave it like that . xxmaj it really does n't matter . \" xxmaj and i think it does n't . xxmaj what happens to xxmaj hank is not going to be good . xxmaj he is n't the kind of guy who manages to run off to xxmaj mexico and is able to start a new life . xxmaj he is the kind of guy who gets a \" light \" sentence of 10 to 20 and serves it and comes out a kind of xxunk human being who knows he was n't really a man when he should have been . \n",
       " \n",
       "  xxmaj see this for xxmaj sidney xxmaj lumet , one of xxmaj hollywood 's best , director of xxmaj the xxmaj pawnbroker ( 1964 ) , xxmaj the xxmaj group ( 1966 ) , xxmaj serpico ( 1973 ) , xxmaj dog xxmaj day xxmaj afternoon ( 1975 ) , xxmaj network ( 1976 ) , and many more . \",xxbos i know technically this is n't the greatest xxup tv show ever , i mean it was shot on video and its limitations show in both the audio and visual aspect of xxunk acting can at time be also a little xxunk love this show so xxunk scared the hell out of me when it first aired in xxunk course it would i was 5 years xxunk i recently purchased the xxup dvd of the first 3 episodes , which unfortunately i hear is now xxunk i also heard warner 's are n't going to release any more due to the first xxup dvd 's bad xxunk the xxup tv show did n't have the same feel as the movies , in fact i thought it had a more sinister xxunk though the colour palette is similar to nightmare on elm street xxunk that film and the xxup tv show were made the same xxunk has more of a serious tone whereas the xxunk were progressively getting more and more sardonic and xxunk a bad thing , i like freddy as the clown wise xxunk i think that was the xxunk of this xxup tv show , you did n't have freddy popping up every minutes cracking a joke before and after he kills xxunk fact this has more of a dream feel to it , reinforced by the soft focus of the xxunk not sure if its deliberate on the part of the shows creators or just to the limitations of being shot on video . i love this show , and taken not as a companion piece to the movies can be very xxunk better than anything on xxup tv today .,xxbos i was really surprised with this movie . xxmaj going in to the sneak preview , knowing nothing about the movie except for the one trailer i 'd seen , i thought it was going to be a xxmaj dude xxmaj where 's xxmaj my xxmaj car kind of crap fest . i was expecting bad sex jokes and farting and a pathetic lead character who will get laid in the end because that 's just how movies work . xxmaj instead i got a smart , surprisingly original movie about a decent , average guy who just never had sex . \n",
       " \n",
       "  xxmaj yes , the film is chock full o ' sex jokes and vulgarity and the occasional hey - look - a - nipple ! , but it 's done much in the spirit of xxmaj bad xxmaj santa rather than xxmaj sorority xxmaj boys . xxmaj all the characters are people you probably know in real life , redeemable friends who are just trying to hook a brother up and live their lives . \n",
       " \n",
       "  i went in thinking this movie was going to be total crap , and i was very surprised . xxmaj yea , it 's pretty over the top ( c'mon , it 's a movie about a 40 year old virgin ! ) , but it 's very smartly done . \n",
       " \n",
       "  xxmaj in the end , you 're really pulling for this guy to get laid , which says a lot about the movie because honestly , did you really care if xxmaj ashton xxmaj kutcher found his car or not ?\n",
       "y: CategoryList\n",
       "1,1,1,1,1\n",
       "Path: .;\n",
       "\n",
       "Test: LabelList (25000 items)\n",
       "x: TextList\n",
       "xxbos xxmaj naturally in a film who 's main themes are of mortality , nostalgia , and loss of innocence it is perhaps not surprising that it is rated more highly by older viewers than younger ones . xxmaj however there is a craftsmanship and xxunk to the film which anyone can enjoy . xxmaj the pace is steady and constant , the characters full and engaging , the relationships and interactions natural showing that you do not need floods of tears to show emotion , screams to show fear , shouting to show dispute or violence to show anger . xxmaj naturally xxmaj joyce 's short story lends the film a ready made structure as perfect as a polished diamond , but the small changes xxmaj huston makes such as the inclusion of the poem fit in neatly . xxmaj it is truly a masterpiece of tact , subtlety and overwhelming beauty .,xxbos xxmaj this movie is a disaster within a disaster film . xxmaj it is full of great action scenes , which are only meaningful if you throw away all sense of reality . xxmaj let 's see , word to the wise , lava burns you ; steam burns you . xxmaj you ca n't stand next to lava . xxmaj diverting a minor lava flow is difficult , let alone a significant one . xxmaj scares me to think that some might actually believe what they saw in this movie . \n",
       " \n",
       "  xxmaj even worse is the significant amount of talent that went into making this film . i mean the acting is actually very good . xxmaj the effects are above average . xxmaj hard to believe somebody read the scripts for this and allowed all this talent to be wasted . i guess my suggestion would be that if this movie is about to start on xxup tv ... look away ! xxmaj it is like a train wreck : it is so awful that once you know what is coming , you just have to watch . xxmaj look away and spend your time on more meaningful content .,xxbos xxmaj all in all , this is a movie for kids . xxmaj we saw it tonight and my child loved it . xxmaj at one point my kid 's excitement was so great that sitting was impossible . xxmaj however , i am a great fan of xxup xxunk xxmaj xxunk 's books which are very subtle and hide a wry intelligence behind the childlike quality of its leading characters . xxmaj this film was not subtle . xxmaj it seems a shame that xxmaj disney can not see the benefit of making movies from more of the stories contained in those pages , although perhaps , it does n't have the permission to use them . i found myself wishing the theater was replaying \\ xxmaj winnie - the - xxmaj pooh and xxmaj xxunk too \" , instead . xxmaj the characters voices were very good . i was only really bothered by xxmaj xxunk . xxmaj the music , however , was twice as loud in parts than the dialog , and incongruous to the film . \n",
       " \n",
       "  xxmaj as for the story , it was a bit preachy and militant in tone . xxmaj overall , i was disappointed , but i would go again just to see the same excitement on my child 's face . \n",
       " \n",
       "  i liked xxmaj lumpy 's laugh xxrep 4 . \",xxbos xxmaj afraid of the xxmaj dark left me with the impression that several different screenplays were written , all too short for a feature length film , then spliced together clumsily into this xxmaj frankenstein 's monster . \n",
       " \n",
       "  xxmaj at his best , the protagonist , xxmaj lucas , is creepy . xxmaj as hard as it is to draw a xxunk on the secondary characters , they 're far more sympathetic . \n",
       " \n",
       "  xxmaj afraid of the xxmaj dark could have achieved mediocrity had it taken just one approach and seen it through -- and had it made xxmaj lucas simply psychotic and confused instead of ghoulish and off - putting . i wanted to see him packed off into an asylum so the rest of the characters could have a normal life .,xxbos a very accurate depiction of small time mob life filmed in xxmaj new xxmaj jersey . xxmaj the story , characters and script are believable but the acting drops the ball . xxmaj still , it 's worth watching , especially for the strong images , some still with me even though i first viewed this 25 years ago . \n",
       " \n",
       "  a young hood steps up and starts doing bigger things ( tries to ) but these things keep going wrong , leading the local boss to suspect that his end is being skimmed off , not a good place to be if you enjoy your health , or life . \n",
       " \n",
       "  xxmaj this is the film that introduced xxmaj joe xxmaj xxunk to xxmaj martin xxmaj scorsese . xxmaj also present is that perennial screen wise guy , xxmaj frank xxmaj vincent . xxmaj strong on characterizations and visuals . xxmaj sound muddled and much of the acting is amateurish , but a great story .\n",
       "y: EmptyLabelList\n",
       ",,,,\n",
       "Path: ., model=SequentialRNN(\n",
       "  (0): MultiBatchEncoder(\n",
       "    (module): AWD_LSTM(\n",
       "      (encoder): Embedding(36832, 400, padding_idx=1)\n",
       "      (encoder_dp): EmbeddingDropout(\n",
       "        (emb): Embedding(36832, 400, padding_idx=1)\n",
       "      )\n",
       "      (rnns): ModuleList(\n",
       "        (0): WeightDropout(\n",
       "          (module): LSTM(400, 1152, batch_first=True)\n",
       "        )\n",
       "        (1): WeightDropout(\n",
       "          (module): LSTM(1152, 1152, batch_first=True)\n",
       "        )\n",
       "        (2): WeightDropout(\n",
       "          (module): LSTM(1152, 400, batch_first=True)\n",
       "        )\n",
       "      )\n",
       "      (input_dp): RNNDropout()\n",
       "      (hidden_dps): ModuleList(\n",
       "        (0): RNNDropout()\n",
       "        (1): RNNDropout()\n",
       "        (2): RNNDropout()\n",
       "      )\n",
       "    )\n",
       "  )\n",
       "  (1): PoolingLinearClassifier(\n",
       "    (layers): Sequential(\n",
       "      (0): BatchNorm1d(1200, eps=1e-05, momentum=0.1, affine=True, track_running_stats=True)\n",
       "      (1): Dropout(p=0.2, inplace=False)\n",
       "      (2): Linear(in_features=1200, out_features=50, bias=True)\n",
       "      (3): ReLU(inplace=True)\n",
       "      (4): BatchNorm1d(50, eps=1e-05, momentum=0.1, affine=True, track_running_stats=True)\n",
       "      (5): Dropout(p=0.1, inplace=False)\n",
       "      (6): Linear(in_features=50, out_features=2, bias=True)\n",
       "    )\n",
       "  )\n",
       "), opt_func=functools.partial(<class 'torch.optim.adam.Adam'>, betas=(0.9, 0.99)), loss_func=FlattenedLoss of CrossEntropyLoss(), metrics=[<function accuracy at 0x7f1f19d98560>], true_wd=True, bn_wd=True, wd=0.01, train_bn=True, path=PosixPath('.'), model_dir='models', callback_fns=[functools.partial(<class 'fastai.basic_train.Recorder'>, add_time=True, silent=False)], callbacks=[RNNTrainer\n",
       "learn: ...\n",
       "alpha: 2.0\n",
       "beta: 1.0], layer_groups=[Sequential(\n",
       "  (0): Embedding(36832, 400, padding_idx=1)\n",
       "  (1): EmbeddingDropout(\n",
       "    (emb): Embedding(36832, 400, padding_idx=1)\n",
       "  )\n",
       "), Sequential(\n",
       "  (0): WeightDropout(\n",
       "    (module): LSTM(400, 1152, batch_first=True)\n",
       "  )\n",
       "  (1): RNNDropout()\n",
       "), Sequential(\n",
       "  (0): WeightDropout(\n",
       "    (module): LSTM(1152, 1152, batch_first=True)\n",
       "  )\n",
       "  (1): RNNDropout()\n",
       "), Sequential(\n",
       "  (0): WeightDropout(\n",
       "    (module): LSTM(1152, 400, batch_first=True)\n",
       "  )\n",
       "  (1): RNNDropout()\n",
       "), Sequential(\n",
       "  (0): PoolingLinearClassifier(\n",
       "    (layers): Sequential(\n",
       "      (0): BatchNorm1d(1200, eps=1e-05, momentum=0.1, affine=True, track_running_stats=True)\n",
       "      (1): Dropout(p=0.2, inplace=False)\n",
       "      (2): Linear(in_features=1200, out_features=50, bias=True)\n",
       "      (3): ReLU(inplace=True)\n",
       "      (4): BatchNorm1d(50, eps=1e-05, momentum=0.1, affine=True, track_running_stats=True)\n",
       "      (5): Dropout(p=0.1, inplace=False)\n",
       "      (6): Linear(in_features=50, out_features=2, bias=True)\n",
       "    )\n",
       "  )\n",
       ")], add_time=True, silent=False)"
      ]
     },
     "execution_count": 33,
     "metadata": {},
     "output_type": "execute_result"
    }
   ],
   "source": [
    "learn_classifier = text_classifier_learner(data_clas, AWD_LSTM, drop_mult = 0.5)\n",
    "learn_classifier.load_encoder('fine_tuned_enc')"
   ]
  },
  {
   "cell_type": "code",
   "execution_count": 34,
   "metadata": {},
   "outputs": [
    {
     "data": {
      "text/html": [
       "\n",
       "    <div>\n",
       "        <style>\n",
       "            /* Turns off some styling */\n",
       "            progress {\n",
       "                /* gets rid of default border in Firefox and Opera. */\n",
       "                border: none;\n",
       "                /* Needs to be in here for Safari polyfill so background images work as expected. */\n",
       "                background-size: auto;\n",
       "            }\n",
       "            .progress-bar-interrupted, .progress-bar-interrupted::-webkit-progress-bar {\n",
       "                background: #F44336;\n",
       "            }\n",
       "        </style>\n",
       "      <progress value='0' class='' max='1', style='width:300px; height:20px; vertical-align: middle;'></progress>\n",
       "      0.00% [0/1 00:00<00:00]\n",
       "    </div>\n",
       "    \n",
       "<table border=\"1\" class=\"dataframe\">\n",
       "  <thead>\n",
       "    <tr style=\"text-align: left;\">\n",
       "      <th>epoch</th>\n",
       "      <th>train_loss</th>\n",
       "      <th>valid_loss</th>\n",
       "      <th>accuracy</th>\n",
       "      <th>time</th>\n",
       "    </tr>\n",
       "  </thead>\n",
       "  <tbody>\n",
       "  </tbody>\n",
       "</table><p>\n",
       "\n",
       "    <div>\n",
       "        <style>\n",
       "            /* Turns off some styling */\n",
       "            progress {\n",
       "                /* gets rid of default border in Firefox and Opera. */\n",
       "                border: none;\n",
       "                /* Needs to be in here for Safari polyfill so background images work as expected. */\n",
       "                background-size: auto;\n",
       "            }\n",
       "            .progress-bar-interrupted, .progress-bar-interrupted::-webkit-progress-bar {\n",
       "                background: #F44336;\n",
       "            }\n",
       "        </style>\n",
       "      <progress value='94' class='' max='625', style='width:300px; height:20px; vertical-align: middle;'></progress>\n",
       "      15.04% [94/625 00:30<02:54 1.7406]\n",
       "    </div>\n",
       "    "
      ],
      "text/plain": [
       "<IPython.core.display.HTML object>"
      ]
     },
     "metadata": {},
     "output_type": "display_data"
    },
    {
     "name": "stdout",
     "output_type": "stream",
     "text": [
      "LR Finder is complete, type {learner_name}.recorder.plot() to see the graph.\n"
     ]
    }
   ],
   "source": [
    "learn_classifier.lr_find()"
   ]
  },
  {
   "cell_type": "code",
   "execution_count": 35,
   "metadata": {},
   "outputs": [
    {
     "data": {
      "image/png": "[encoded data removed]",
      "text/plain": [
       "<Figure size 432x288 with 1 Axes>"
      ]
     },
     "metadata": {
      "needs_background": "light"
     },
     "output_type": "display_data"
    }
   ],
   "source": [
    "learn_classifier.recorder.plot()"
   ]
  },
  {
   "cell_type": "code",
   "execution_count": 36,
   "metadata": {},
   "outputs": [
    {
     "data": {
      "text/html": [
       "<table border=\"1\" class=\"dataframe\">\n",
       "  <thead>\n",
       "    <tr style=\"text-align: left;\">\n",
       "      <th>epoch</th>\n",
       "      <th>train_loss</th>\n",
       "      <th>valid_loss</th>\n",
       "      <th>accuracy</th>\n",
       "      <th>time</th>\n",
       "    </tr>\n",
       "  </thead>\n",
       "  <tbody>\n",
       "    <tr>\n",
       "      <td>0</td>\n",
       "      <td>0.313663</td>\n",
       "      <td>0.255697</td>\n",
       "      <td>0.895800</td>\n",
       "      <td>03:45</td>\n",
       "    </tr>\n",
       "  </tbody>\n",
       "</table>"
      ],
      "text/plain": [
       "<IPython.core.display.HTML object>"
      ]
     },
     "metadata": {},
     "output_type": "display_data"
    }
   ],
   "source": [
    "# moms = (0.8, 0.7) - helps with training when decreasing the momentum. \n",
    "learn_classifier.fit_one_cycle(1, 5e-2, moms=(0.8,0.7))"
   ]
  },
  {
   "cell_type": "markdown",
   "metadata": {},
   "source": [
    "89.6% accuracy!"
   ]
  },
  {
   "cell_type": "code",
   "execution_count": 37,
   "metadata": {},
   "outputs": [],
   "source": [
    "learn_classifier.save('first')"
   ]
  },
  {
   "cell_type": "code",
   "execution_count": 38,
   "metadata": {},
   "outputs": [],
   "source": [
    "learn_classifier.load('first');"
   ]
  },
  {
   "cell_type": "code",
   "execution_count": 39,
   "metadata": {},
   "outputs": [
    {
     "data": {
      "text/html": [
       "<table border=\"1\" class=\"dataframe\">\n",
       "  <thead>\n",
       "    <tr style=\"text-align: left;\">\n",
       "      <th>epoch</th>\n",
       "      <th>train_loss</th>\n",
       "      <th>valid_loss</th>\n",
       "      <th>accuracy</th>\n",
       "      <th>time</th>\n",
       "    </tr>\n",
       "  </thead>\n",
       "  <tbody>\n",
       "    <tr>\n",
       "      <td>0</td>\n",
       "      <td>0.281421</td>\n",
       "      <td>0.228812</td>\n",
       "      <td>0.905200</td>\n",
       "      <td>03:46</td>\n",
       "    </tr>\n",
       "  </tbody>\n",
       "</table>"
      ],
      "text/plain": [
       "<IPython.core.display.HTML object>"
      ]
     },
     "metadata": {},
     "output_type": "display_data"
    }
   ],
   "source": [
    "learn_classifier.freeze_to(-2)\n",
    "learn_classifier.fit_one_cycle(1, slice(1e-2/(2.6**4),1e-2), moms=(0.8,0.7))"
   ]
  },
  {
   "cell_type": "markdown",
   "metadata": {},
   "source": [
    "90.5% accuracy!"
   ]
  },
  {
   "cell_type": "code",
   "execution_count": 40,
   "metadata": {},
   "outputs": [],
   "source": [
    "learn_classifier.save('second')"
   ]
  },
  {
   "cell_type": "code",
   "execution_count": 41,
   "metadata": {},
   "outputs": [],
   "source": [
    "learn_classifier.load('second');"
   ]
  },
  {
   "cell_type": "code",
   "execution_count": 42,
   "metadata": {},
   "outputs": [
    {
     "data": {
      "text/html": [
       "<table border=\"1\" class=\"dataframe\">\n",
       "  <thead>\n",
       "    <tr style=\"text-align: left;\">\n",
       "      <th>epoch</th>\n",
       "      <th>train_loss</th>\n",
       "      <th>valid_loss</th>\n",
       "      <th>accuracy</th>\n",
       "      <th>time</th>\n",
       "    </tr>\n",
       "  </thead>\n",
       "  <tbody>\n",
       "    <tr>\n",
       "      <td>0</td>\n",
       "      <td>0.251465</td>\n",
       "      <td>0.213108</td>\n",
       "      <td>0.913800</td>\n",
       "      <td>03:47</td>\n",
       "    </tr>\n",
       "  </tbody>\n",
       "</table>"
      ],
      "text/plain": [
       "<IPython.core.display.HTML object>"
      ]
     },
     "metadata": {},
     "output_type": "display_data"
    }
   ],
   "source": [
    "learn_classifier.freeze_to(-3)\n",
    "learn_classifier.fit_one_cycle(1, slice(5e-3/(2.6**4),5e-3), moms=(0.8,0.7))"
   ]
  },
  {
   "cell_type": "markdown",
   "metadata": {},
   "source": [
    "91.4% accuracy!"
   ]
  },
  {
   "cell_type": "code",
   "execution_count": 43,
   "metadata": {},
   "outputs": [],
   "source": [
    "learn_classifier.save('third')"
   ]
  },
  {
   "cell_type": "code",
   "execution_count": 44,
   "metadata": {},
   "outputs": [],
   "source": [
    "learn_classifier.load('third');"
   ]
  },
  {
   "cell_type": "code",
   "execution_count": 45,
   "metadata": {},
   "outputs": [
    {
     "data": {
      "text/html": [
       "<table border=\"1\" class=\"dataframe\">\n",
       "  <thead>\n",
       "    <tr style=\"text-align: left;\">\n",
       "      <th>epoch</th>\n",
       "      <th>train_loss</th>\n",
       "      <th>valid_loss</th>\n",
       "      <th>accuracy</th>\n",
       "      <th>time</th>\n",
       "    </tr>\n",
       "  </thead>\n",
       "  <tbody>\n",
       "    <tr>\n",
       "      <td>0</td>\n",
       "      <td>0.227948</td>\n",
       "      <td>0.210675</td>\n",
       "      <td>0.914400</td>\n",
       "      <td>03:48</td>\n",
       "    </tr>\n",
       "    <tr>\n",
       "      <td>1</td>\n",
       "      <td>0.247658</td>\n",
       "      <td>0.208784</td>\n",
       "      <td>0.916600</td>\n",
       "      <td>03:47</td>\n",
       "    </tr>\n",
       "  </tbody>\n",
       "</table>"
      ],
      "text/plain": [
       "<IPython.core.display.HTML object>"
      ]
     },
     "metadata": {},
     "output_type": "display_data"
    }
   ],
   "source": [
    "learn_classifier.unfreeze()\n",
    "learn_classifier.fit_one_cycle(2, slice(1e-3/(2.6**4),1e-3), moms=(0.8,0.7))"
   ]
  },
  {
   "cell_type": "markdown",
   "metadata": {},
   "source": [
    "91.6% accuracy!"
   ]
  },
  {
   "cell_type": "code",
   "execution_count": 46,
   "metadata": {},
   "outputs": [
    {
     "data": {
      "text/html": [
       "<table border=\"1\" class=\"dataframe\">\n",
       "  <thead>\n",
       "    <tr style=\"text-align: right;\">\n",
       "      <th>text</th>\n",
       "      <th>target</th>\n",
       "      <th>prediction</th>\n",
       "    </tr>\n",
       "  </thead>\n",
       "  <tbody>\n",
       "    <tr>\n",
       "      <td>xxbos xxmaj warning : xxmaj does contain spoilers . \\n \\n  xxmaj open xxmaj your xxmaj eyes \\n \\n  xxmaj if you have not seen this film and plan on doing so , just stop reading here and take my word for it . xxmaj you have to see this film . i have seen it four times so far and i still have n't made up my</td>\n",
       "      <td>1</td>\n",
       "      <td>1</td>\n",
       "    </tr>\n",
       "    <tr>\n",
       "      <td>xxbos xxmaj this movie was recently released on xxup dvd in the xxup us and i finally got the chance to see this hard - to - find gem . xxmaj it even came with original theatrical previews of other xxmaj italian horror classics like \\ xxup xxunk \" and \" xxup beyond xxup the xxup darkness \" . xxmaj unfortunately , the previews were the best thing about this</td>\n",
       "      <td>0</td>\n",
       "      <td>0</td>\n",
       "    </tr>\n",
       "    <tr>\n",
       "      <td>xxbos xxmaj raising xxmaj victor xxmaj vargas : a xxmaj review \\n \\n  xxmaj you know , xxmaj raising xxmaj victor xxmaj vargas is like sticking your hands into a big , steaming bowl of oatmeal . xxmaj it 's warm and gooey , but you 're not sure if it feels right . xxmaj try as i might , no matter how warm and gooey xxmaj raising xxmaj</td>\n",
       "      <td>0</td>\n",
       "      <td>0</td>\n",
       "    </tr>\n",
       "    <tr>\n",
       "      <td>xxbos xxmaj here are the matches . . . ( xxunk . = advantage ) \\n \\n  xxmaj the xxmaj warriors ( xxmaj ultimate xxmaj warrior , xxmaj texas xxmaj tornado and xxmaj legion of xxmaj doom ) v xxmaj the xxmaj perfect xxmaj team ( xxmaj mr xxmaj perfect , xxmaj ax , xxmaj smash and xxmaj crush of xxmaj demolition ) : xxmaj ax is the first</td>\n",
       "      <td>0</td>\n",
       "      <td>0</td>\n",
       "    </tr>\n",
       "    <tr>\n",
       "      <td>xxbos xxmaj jim xxmaj carrey is back to much the same role that he played in xxmaj the xxmaj mask , a timid guy who is trying to get ahead in the world but who seems to be plagued with bad luck . xxmaj even when he tries to help a homeless guy from being harassed by a bunch of hoodlums ( and of course they have to be xxmaj</td>\n",
       "      <td>1</td>\n",
       "      <td>1</td>\n",
       "    </tr>\n",
       "  </tbody>\n",
       "</table>"
      ],
      "text/plain": [
       "<IPython.core.display.HTML object>"
      ]
     },
     "metadata": {},
     "output_type": "display_data"
    }
   ],
   "source": [
    "learn_classifier.show_results()"
   ]
  },
  {
   "cell_type": "code",
   "execution_count": 47,
   "metadata": {},
   "outputs": [
    {
     "data": {
      "text/plain": [
       "(Category 1, tensor(1), tensor([5.0688e-04, 9.9949e-01]))"
      ]
     },
     "execution_count": 47,
     "metadata": {},
     "output_type": "execute_result"
    }
   ],
   "source": [
    "learn_classifier.predict(\"I really loved that movie, it was awesome!\")"
   ]
  },
  {
   "cell_type": "code",
   "execution_count": 48,
   "metadata": {},
   "outputs": [
    {
     "data": {
      "text/plain": [
       "(Category 1, tensor(1), tensor([0.0017, 0.9983]))"
      ]
     },
     "execution_count": 48,
     "metadata": {},
     "output_type": "execute_result"
    }
   ],
   "source": [
    "learn_classifier.predict(\"That was a great movie!\")"
   ]
  },
  {
   "cell_type": "code",
   "execution_count": null,
   "metadata": {},
   "outputs": [],
   "source": []
  }
 ],
 "metadata": {
  "kernelspec": {
   "display_name": "Python 3",
   "language": "python",
   "name": "python3"
  },
  "language_info": {
   "codemirror_mode": {
    "name": "ipython",
    "version": 3
   },
   "file_extension": ".py",
   "mimetype": "text/x-python",
   "name": "python",
   "nbconvert_exporter": "python",
   "pygments_lexer": "ipython3",
   "version": "3.7.4"
  }
 },
 "nbformat": 4,
 "nbformat_minor": 2
}
